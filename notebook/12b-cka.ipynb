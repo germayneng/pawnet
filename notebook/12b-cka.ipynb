{
 "cells": [
  {
   "cell_type": "code",
   "execution_count": 5,
   "id": "22ba13d0-efbf-4ac1-aae1-5521f51f871f",
   "metadata": {},
   "outputs": [],
   "source": [
    "# This Python 3 environment comes with many helpful analytics libraries installed\n",
    "# It is defined by the kaggle/python Docker image: https://github.com/kaggle/docker-python\n",
    "# For example, here's several helpful packages to load\n",
    "\n",
    "\n",
    "# Input data files are available in the read-only \"../input/\" directory\n",
    "# For example, running this (by clicking run or pressing Shift+Enter) will list all files under the input directory\n",
    "\n",
    "# import os\n",
    "# for dirname, _, filenames in os.walk('/kaggle/input'):\n",
    "#     for filename in filenames:\n",
    "#         print(os.path.join(dirname, filename))\n",
    "\n",
    "# You can write up to 20GB to the current directory (/kaggle/working/) that gets preserved as output when you create a version using \"Save & Run All\" \n",
    "# You can also write temporary files to /kaggle/temp/, but they won't be saved outside of the current session\n",
    "\n",
    "\n",
    "import numpy as np # linear algebra\n",
    "import pandas as pd # data processing, CSV file I/O (e.g. pd.read_csv)\n",
    "import random\n",
    "import matplotlib.pyplot as plt\n",
    "import os\n",
    "import tqdm\n",
    "\n",
    "import seaborn as sns\n",
    "from torchvision.io import read_image\n",
    "import torchvision.transforms as T\n",
    "from torchvision.utils import make_grid\n",
    "from attrdict import AttrDict\n",
    "import torch\n",
    "import yaml\n",
    "from sklearn.model_selection import StratifiedKFold\n",
    "import copy\n",
    "import pickle\n",
    "# from tqdm import tqdm_notebook\n",
    "\n",
    "# additional lightning \n",
    "\n",
    "import pytorch_lightning as pl\n",
    "from pytorch_lightning.utilities.seed import seed_everything\n",
    "from pytorch_lightning import callbacks\n",
    "from pytorch_lightning.callbacks.progress import ProgressBarBase\n",
    "from pytorch_lightning.callbacks.early_stopping import EarlyStopping\n",
    "from pytorch_lightning.loggers import TensorBoardLogger\n",
    "from pytorch_lightning import LightningDataModule, LightningModule\n",
    "\n",
    "import torch\n",
    "from torch import nn\n",
    "import torch.nn.functional as F\n",
    "from timm import create_model\n",
    "\n",
    "import gc"
   ]
  },
  {
   "cell_type": "code",
   "execution_count": 6,
   "id": "3036e237-1294-46e8-97a0-0907330750ff",
   "metadata": {},
   "outputs": [],
   "source": [
    "##################\n",
    "# VM USE THIS\n",
    "##################\n",
    "import sys\n",
    "sys.path.append(\"../\")\n",
    "from pawnet.utility import *\n",
    "\n",
    "\n",
    "##################\n",
    "# KAGGLE USE THIS\n",
    "##################\n",
    "# you need to import the utility script by uploading to kaggle as pawnet_utility/pawnet_utility.py\n",
    "# from pawnet_utility import *"
   ]
  },
  {
   "cell_type": "code",
   "execution_count": 7,
   "id": "372020e8-ab31-4bc2-a973-680ff0df235b",
   "metadata": {},
   "outputs": [],
   "source": [
    "# extra augmentations for experiments\n",
    "import pawnet.augmentations as aug_utils"
   ]
  },
  {
   "cell_type": "code",
   "execution_count": 8,
   "id": "9cdd639b-752c-440d-907f-f8a3983f28c2",
   "metadata": {},
   "outputs": [],
   "source": [
    "# cka\n",
    "import pawnet.visualization as viz_utils"
   ]
  },
  {
   "cell_type": "markdown",
   "id": "bae8d382-0b4b-4d3d-944a-abb237dee0fe",
   "metadata": {},
   "source": [
    "# Load feature maps"
   ]
  },
  {
   "cell_type": "code",
   "execution_count": 16,
   "id": "048586c5-62c4-4ba2-8384-618f4548862d",
   "metadata": {},
   "outputs": [],
   "source": [
    "with open(\"swin.pkl\",\"rb\") as fin:\n",
    "    [swin] = pickle.load(fin)\n",
    "    \n",
    "# compute gram\n",
    "swin_gram = torch.matmul(swin.permute(0,2,1),swin)\n",
    "\n",
    "swin_gram = swin_gram.view(-1,swin_gram.shape[1] * swin_gram.shape[2])"
   ]
  },
  {
   "cell_type": "code",
   "execution_count": 17,
   "id": "13952969-bfa8-42fa-85cd-ac597d14f540",
   "metadata": {},
   "outputs": [],
   "source": [
    "with open(\"densenet.pkl\",\"rb\") as fin:\n",
    "    [dense] = pickle.load(fin)\n",
    "    \n",
    "# compute gram\n",
    "dense = dense.view(dense.shape[0],dense.shape[1],dense.shape[2]*dense.shape[3])\n",
    "dense_gram = torch.matmul(dense,dense.permute(0,2,1))\n",
    "\n",
    "dense_gram = dense_gram.view(-1,dense_gram.shape[1] * dense_gram.shape[2])"
   ]
  },
  {
   "cell_type": "code",
   "execution_count": 18,
   "id": "9f729e43-4a8b-467d-b915-4f8939a51514",
   "metadata": {},
   "outputs": [],
   "source": [
    "with open(\"efficientnet.pkl\",\"rb\") as fin:\n",
    "    [efficientnet] = pickle.load(fin)\n",
    "    \n",
    "# compute gram\n",
    "efficientnet = efficientnet.view(efficientnet.shape[0],efficientnet.shape[1],efficientnet.shape[2]*efficientnet.shape[3])\n",
    "efficientnet_gram = torch.matmul(efficientnet,efficientnet.permute(0,2,1))\n",
    "\n",
    "efficientnet_gram = efficientnet_gram.view(-1,efficientnet_gram.shape[1] * efficientnet_gram.shape[2])"
   ]
  },
  {
   "cell_type": "code",
   "execution_count": 19,
   "id": "a3ffd381-67de-4825-9e66-aa80481cf81f",
   "metadata": {},
   "outputs": [],
   "source": [
    "with open(\"resnet.pkl\",\"rb\") as fin:\n",
    "    [resnet] = pickle.load(fin)\n",
    "    \n",
    "# compute gram\n",
    "resnet = resnet.view(resnet.shape[0],resnet.shape[1],resnet.shape[2]*resnet.shape[3])\n",
    "resnet_gram = torch.matmul(resnet,resnet.permute(0,2,1))\n",
    "\n",
    "resnet_gram = resnet_gram.view(-1,resnet_gram.shape[1] * resnet_gram.shape[2])"
   ]
  },
  {
   "cell_type": "code",
   "execution_count": 20,
   "id": "6c90bbf1-c473-40a0-98c8-7200ccca68e6",
   "metadata": {},
   "outputs": [],
   "source": [
    "with open(\"vit_small.pkl\",\"rb\") as fin:\n",
    "    [vit] = pickle.load(fin)\n",
    "    \n",
    "# compute gram\n",
    "vit_gram = torch.matmul(vit.permute(0,2,1),vit)\n",
    "\n",
    "vit_gram = vit_gram.view(-1,vit_gram.shape[1] * vit_gram.shape[2])"
   ]
  },
  {
   "cell_type": "markdown",
   "id": "7ff15a93-2b10-47e0-bf40-4ef0ea84cec5",
   "metadata": {},
   "source": [
    "# CKA"
   ]
  },
  {
   "cell_type": "code",
   "execution_count": 23,
   "id": "d3368ba7-6b51-4dd8-8fd9-52d14ba5764d",
   "metadata": {},
   "outputs": [],
   "source": [
    "list_grams = [resnet_gram,efficientnet_gram,dense_gram,swin_gram,vit_gram]\n",
    "cka_matrix = np.zeros((5,5))"
   ]
  },
  {
   "cell_type": "code",
   "execution_count": 30,
   "id": "fd654f7c-4b37-42be-9137-1fb25600c83f",
   "metadata": {},
   "outputs": [],
   "source": [
    "# compute pairwise CKA\n",
    "cka = viz_utils.CudaCKA(device =\"cpu\")\n",
    "for i,gram in enumerate(list_grams):\n",
    "    for j,gram_pair in enumerate(list_grams):\n",
    "        # compute pairwise CKA\n",
    "        cka_matrix[i,j]= cka.linear_CKA(X=gram,Y=gram_pair).detach().numpy()"
   ]
  },
  {
   "cell_type": "code",
   "execution_count": 31,
   "id": "16e4cc32-0285-453e-832f-41da7b5bf389",
   "metadata": {},
   "outputs": [
    {
     "data": {
      "text/plain": [
       "array([[1.        , 0.79575735, 0.76134151, 0.68198615, 0.09830096],\n",
       "       [0.79575735, 1.        , 0.76219547, 0.6503855 , 0.10582014],\n",
       "       [0.76134151, 0.76219547, 1.        , 0.67735887, 0.11902721],\n",
       "       [0.68198615, 0.6503855 , 0.67735887, 1.00000012, 0.10050593],\n",
       "       [0.09830096, 0.10582014, 0.11902721, 0.10050593, 1.        ]])"
      ]
     },
     "execution_count": 31,
     "metadata": {},
     "output_type": "execute_result"
    }
   ],
   "source": [
    "cka_matrix"
   ]
  },
  {
   "cell_type": "code",
   "execution_count": 42,
   "id": "599f86ab-c3aa-42e9-8c19-01851f423609",
   "metadata": {},
   "outputs": [
    {
     "data": {
      "image/png": "[encoded data removed]",
      "text/plain": [
       "<Figure size 720x720 with 2 Axes>"
      ]
     },
     "metadata": {
      "needs_background": "light"
     },
     "output_type": "display_data"
    }
   ],
   "source": [
    "fig,axes = plt.subplots(figsize=(10,10))\n",
    "sns.heatmap(cka_matrix,annot=True,ax=axes,xticklabels=[\"ResNet\",\"EfficientNet\",\"DenseNet\",\"Swin\",\"ViT\"],yticklabels=[\"ResNet\",\"EfficientNet\",\"DenseNet\",\"Swin\",\"ViT\"],cbar_kws={\"label\":\"CKA\"},cmap=\"YlGnBu\")\n",
    "axes.set_title(\"Pairwise CKA\")\n",
    "plt.savefig(\"cka_plot.png\")"
   ]
  },
  {
   "cell_type": "code",
   "execution_count": null,
   "id": "c77cceb4-a953-4a5a-8ee3-e202628cc3f0",
   "metadata": {},
   "outputs": [],
   "source": []
  }
 ],
 "metadata": {
  "environment": {
   "kernel": "conda-root-py",
   "name": "pytorch-gpu.1-9.m82",
   "type": "gcloud",
   "uri": "gcr.io/deeplearning-platform-release/pytorch-gpu.1-9:m82"
  },
  "kernelspec": {
   "display_name": "Python [conda env:root] *",
   "language": "python",
   "name": "conda-root-py"
  },
  "language_info": {
   "codemirror_mode": {
    "name": "ipython",
    "version": 3
   },
   "file_extension": ".py",
   "mimetype": "text/x-python",
   "name": "python",
   "nbconvert_exporter": "python",
   "pygments_lexer": "ipython3",
   "version": "3.7.10"
  }
 },
 "nbformat": 4,
 "nbformat_minor": 5
}
