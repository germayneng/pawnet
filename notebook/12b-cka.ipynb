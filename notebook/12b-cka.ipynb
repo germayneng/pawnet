{
 "cells": [
  {
   "cell_type": "code",
   "execution_count": 1,
   "id": "22ba13d0-efbf-4ac1-aae1-5521f51f871f",
   "metadata": {},
   "outputs": [],
   "source": [
    "# This Python 3 environment comes with many helpful analytics libraries installed\n",
    "# It is defined by the kaggle/python Docker image: https://github.com/kaggle/docker-python\n",
    "# For example, here's several helpful packages to load\n",
    "\n",
    "\n",
    "# Input data files are available in the read-only \"../input/\" directory\n",
    "# For example, running this (by clicking run or pressing Shift+Enter) will list all files under the input directory\n",
    "\n",
    "# import os\n",
    "# for dirname, _, filenames in os.walk('/kaggle/input'):\n",
    "#     for filename in filenames:\n",
    "#         print(os.path.join(dirname, filename))\n",
    "\n",
    "# You can write up to 20GB to the current directory (/kaggle/working/) that gets preserved as output when you create a version using \"Save & Run All\" \n",
    "# You can also write temporary files to /kaggle/temp/, but they won't be saved outside of the current session\n",
    "\n",
    "\n",
    "import numpy as np # linear algebra\n",
    "import pandas as pd # data processing, CSV file I/O (e.g. pd.read_csv)\n",
    "import random\n",
    "import matplotlib.pyplot as plt\n",
    "import os\n",
    "import tqdm\n",
    "\n",
    "import seaborn as sns\n",
    "from torchvision.io import read_image\n",
    "import torchvision.transforms as T\n",
    "from torchvision.utils import make_grid\n",
    "from attrdict import AttrDict\n",
    "import torch\n",
    "import yaml\n",
    "from sklearn.model_selection import StratifiedKFold\n",
    "import copy\n",
    "import pickle\n",
    "# from tqdm import tqdm_notebook\n",
    "\n",
    "# additional lightning \n",
    "\n",
    "import pytorch_lightning as pl\n",
    "from pytorch_lightning.utilities.seed import seed_everything\n",
    "from pytorch_lightning import callbacks\n",
    "from pytorch_lightning.callbacks.progress import ProgressBarBase\n",
    "from pytorch_lightning.callbacks.early_stopping import EarlyStopping\n",
    "from pytorch_lightning.loggers import TensorBoardLogger\n",
    "from pytorch_lightning import LightningDataModule, LightningModule\n",
    "\n",
    "import torch\n",
    "from torch import nn\n",
    "import torch.nn.functional as F\n",
    "from timm import create_model\n",
    "\n",
    "import gc"
   ]
  },
  {
   "cell_type": "code",
   "execution_count": 2,
   "id": "3036e237-1294-46e8-97a0-0907330750ff",
   "metadata": {},
   "outputs": [],
   "source": [
    "##################\n",
    "# VM USE THIS\n",
    "##################\n",
    "import sys\n",
    "sys.path.append(\"../\")\n",
    "from pawnet.utility import *\n",
    "\n",
    "\n",
    "##################\n",
    "# KAGGLE USE THIS\n",
    "##################\n",
    "# you need to import the utility script by uploading to kaggle as pawnet_utility/pawnet_utility.py\n",
    "# from pawnet_utility import *"
   ]
  },
  {
   "cell_type": "code",
   "execution_count": 3,
   "id": "372020e8-ab31-4bc2-a973-680ff0df235b",
   "metadata": {},
   "outputs": [],
   "source": [
    "# extra augmentations for experiments\n",
    "import pawnet.augmentations as aug_utils"
   ]
  },
  {
   "cell_type": "code",
   "execution_count": 4,
   "id": "9cdd639b-752c-440d-907f-f8a3983f28c2",
   "metadata": {},
   "outputs": [],
   "source": [
    "# cka\n",
    "import pawnet.visualization as viz_utils"
   ]
  },
  {
   "cell_type": "markdown",
   "id": "bae8d382-0b4b-4d3d-944a-abb237dee0fe",
   "metadata": {},
   "source": [
    "# Load feature maps"
   ]
  },
  {
   "cell_type": "code",
   "execution_count": 5,
   "id": "048586c5-62c4-4ba2-8384-618f4548862d",
   "metadata": {},
   "outputs": [],
   "source": [
    "with open(\"swin.pkl\",\"rb\") as fin:\n",
    "    [swin] = pickle.load(fin)\n",
    "    \n",
    "# compute gram\n",
    "swin_gram = torch.matmul(swin.permute(0,2,1),swin)\n",
    "\n",
    "swin_gram = swin_gram.view(-1,swin_gram.shape[1] * swin_gram.shape[2])"
   ]
  },
  {
   "cell_type": "code",
   "execution_count": 6,
   "id": "13952969-bfa8-42fa-85cd-ac597d14f540",
   "metadata": {},
   "outputs": [],
   "source": [
    "with open(\"densenet.pkl\",\"rb\") as fin:\n",
    "    [dense] = pickle.load(fin)\n",
    "    \n",
    "# compute gram\n",
    "dense = dense.view(dense.shape[0],dense.shape[1],dense.shape[2]*dense.shape[3])\n",
    "dense_gram = torch.matmul(dense,dense.permute(0,2,1))\n",
    "\n",
    "dense_gram = dense_gram.view(-1,dense_gram.shape[1] * dense_gram.shape[2])"
   ]
  },
  {
   "cell_type": "code",
   "execution_count": 7,
   "id": "9f729e43-4a8b-467d-b915-4f8939a51514",
   "metadata": {},
   "outputs": [],
   "source": [
    "with open(\"efficientnet.pkl\",\"rb\") as fin:\n",
    "    [efficientnet] = pickle.load(fin)\n",
    "    \n",
    "# compute gram\n",
    "efficientnet = efficientnet.view(efficientnet.shape[0],efficientnet.shape[1],efficientnet.shape[2]*efficientnet.shape[3])\n",
    "efficientnet_gram = torch.matmul(efficientnet,efficientnet.permute(0,2,1))\n",
    "\n",
    "efficientnet_gram = efficientnet_gram.view(-1,efficientnet_gram.shape[1] * efficientnet_gram.shape[2])"
   ]
  },
  {
   "cell_type": "code",
   "execution_count": 8,
   "id": "a3ffd381-67de-4825-9e66-aa80481cf81f",
   "metadata": {},
   "outputs": [],
   "source": [
    "with open(\"resnet.pkl\",\"rb\") as fin:\n",
    "    [resnet] = pickle.load(fin)\n",
    "    \n",
    "# compute gram\n",
    "resnet = resnet.view(resnet.shape[0],resnet.shape[1],resnet.shape[2]*resnet.shape[3])\n",
    "resnet_gram = torch.matmul(resnet,resnet.permute(0,2,1))\n",
    "\n",
    "resnet_gram = resnet_gram.view(-1,resnet_gram.shape[1] * resnet_gram.shape[2])"
   ]
  },
  {
   "cell_type": "code",
   "execution_count": 13,
   "id": "6c90bbf1-c473-40a0-98c8-7200ccca68e6",
   "metadata": {},
   "outputs": [
    {
     "ename": "IndexError",
     "evalue": "tuple index out of range",
     "output_type": "error",
     "traceback": [
      "\u001b[0;31m---------------------------------------------------------------------------\u001b[0m",
      "\u001b[0;31mIndexError\u001b[0m                                Traceback (most recent call last)",
      "\u001b[0;32m/tmp/ipykernel_5359/3509896896.py\u001b[0m in \u001b[0;36m<module>\u001b[0;34m\u001b[0m\n\u001b[1;32m      3\u001b[0m \u001b[0;34m\u001b[0m\u001b[0m\n\u001b[1;32m      4\u001b[0m \u001b[0;31m# compute gram\u001b[0m\u001b[0;34m\u001b[0m\u001b[0;34m\u001b[0m\u001b[0;34m\u001b[0m\u001b[0m\n\u001b[0;32m----> 5\u001b[0;31m \u001b[0mvit\u001b[0m \u001b[0;34m=\u001b[0m \u001b[0mvit\u001b[0m\u001b[0;34m.\u001b[0m\u001b[0mview\u001b[0m\u001b[0;34m(\u001b[0m\u001b[0mvit\u001b[0m\u001b[0;34m.\u001b[0m\u001b[0mshape\u001b[0m\u001b[0;34m[\u001b[0m\u001b[0;36m0\u001b[0m\u001b[0;34m]\u001b[0m\u001b[0;34m,\u001b[0m\u001b[0mvit\u001b[0m\u001b[0;34m.\u001b[0m\u001b[0mshape\u001b[0m\u001b[0;34m[\u001b[0m\u001b[0;36m1\u001b[0m\u001b[0;34m]\u001b[0m\u001b[0;34m,\u001b[0m\u001b[0mvit\u001b[0m\u001b[0;34m.\u001b[0m\u001b[0mshape\u001b[0m\u001b[0;34m[\u001b[0m\u001b[0;36m2\u001b[0m\u001b[0;34m]\u001b[0m\u001b[0;34m*\u001b[0m\u001b[0mvit\u001b[0m\u001b[0;34m.\u001b[0m\u001b[0mshape\u001b[0m\u001b[0;34m[\u001b[0m\u001b[0;36m3\u001b[0m\u001b[0;34m]\u001b[0m\u001b[0;34m)\u001b[0m\u001b[0;34m\u001b[0m\u001b[0;34m\u001b[0m\u001b[0m\n\u001b[0m\u001b[1;32m      6\u001b[0m \u001b[0;31m# vit_gram = torch.matmul(vit,vit.permute(0,2,1))\u001b[0m\u001b[0;34m\u001b[0m\u001b[0;34m\u001b[0m\u001b[0;34m\u001b[0m\u001b[0m\n\u001b[1;32m      7\u001b[0m \u001b[0;34m\u001b[0m\u001b[0m\n",
      "\u001b[0;31mIndexError\u001b[0m: tuple index out of range"
     ]
    }
   ],
   "source": [
    "with open(\"vit_small.pkl\",\"rb\") as fin:\n",
    "    [vit] = pickle.load(fin)\n",
    "    \n",
    "# compute gram\n",
    "vit_gram = torch.matmul(vit.permute(0,2,1),vit)\n",
    "\n",
    "swin_gram = swin_gram.view(-1,swin_gram.shape[1] * swin_gram.shape[2])"
   ]
  },
  {
   "cell_type": "code",
   "execution_count": 12,
   "id": "6548111c-37d3-4920-acb5-8f6abdc1b2c7",
   "metadata": {},
   "outputs": [
    {
     "data": {
      "text/plain": [
       "torch.Size([64, 197, 192])"
      ]
     },
     "execution_count": 12,
     "metadata": {},
     "output_type": "execute_result"
    }
   ],
   "source": [
    "vit.shape"
   ]
  },
  {
   "cell_type": "markdown",
   "id": "7ff15a93-2b10-47e0-bf40-4ef0ea84cec5",
   "metadata": {},
   "source": [
    "# CKA"
   ]
  },
  {
   "cell_type": "code",
   "execution_count": null,
   "id": "d3368ba7-6b51-4dd8-8fd9-52d14ba5764d",
   "metadata": {},
   "outputs": [],
   "source": [
    "list_grams = [resnet_gram,efficientnet_gram,dense_gram,swin_gram]\n",
    "cka_matrix = np.zeros((4,4)"
   ]
  },
  {
   "cell_type": "code",
   "execution_count": 17,
   "id": "f9b87fe9-a0da-4219-8baa-a1c0743f453a",
   "metadata": {},
   "outputs": [],
   "source": [
    "cka = viz_utils.CudaCKA(device =\"cpu\")"
   ]
  },
  {
   "cell_type": "code",
   "execution_count": 18,
   "id": "52b585d0-f7cb-48d5-9a0f-2b627ff50b61",
   "metadata": {},
   "outputs": [
    {
     "data": {
      "text/plain": [
       "tensor(0.6774, grad_fn=<DivBackward0>)"
      ]
     },
     "execution_count": 18,
     "metadata": {},
     "output_type": "execute_result"
    }
   ],
   "source": [
    "cka.linear_CKA(X=swin_gram,Y=dense_gram)"
   ]
  },
  {
   "cell_type": "code",
   "execution_count": 19,
   "id": "2f2cf47f-f9a7-4752-84e3-71af5bb96393",
   "metadata": {},
   "outputs": [
    {
     "data": {
      "text/plain": [
       "tensor(0.7622, grad_fn=<DivBackward0>)"
      ]
     },
     "execution_count": 19,
     "metadata": {},
     "output_type": "execute_result"
    }
   ],
   "source": [
    "cka.linear_CKA(X=efficientnet_gram,Y=dense_gram)"
   ]
  },
  {
   "cell_type": "code",
   "execution_count": null,
   "id": "16e4cc32-0285-453e-832f-41da7b5bf389",
   "metadata": {},
   "outputs": [],
   "source": []
  }
 ],
 "metadata": {
  "environment": {
   "kernel": "conda-root-py",
   "name": "pytorch-gpu.1-9.m82",
   "type": "gcloud",
   "uri": "gcr.io/deeplearning-platform-release/pytorch-gpu.1-9:m82"
  },
  "kernelspec": {
   "display_name": "Python [conda env:root] *",
   "language": "python",
   "name": "conda-root-py"
  },
  "language_info": {
   "codemirror_mode": {
    "name": "ipython",
    "version": 3
   },
   "file_extension": ".py",
   "mimetype": "text/x-python",
   "name": "python",
   "nbconvert_exporter": "python",
   "pygments_lexer": "ipython3",
   "version": "3.7.10"
  }
 },
 "nbformat": 4,
 "nbformat_minor": 5
}
