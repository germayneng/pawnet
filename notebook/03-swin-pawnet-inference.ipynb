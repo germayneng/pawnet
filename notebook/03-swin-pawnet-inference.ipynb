{
 "cells": [
  {
   "cell_type": "markdown",
   "id": "6ca6a609",
   "metadata": {
    "_cell_guid": "b1076dfc-b9ad-4769-8c92-a6c4dae69d19",
    "_uuid": "8f2839f25d086af736a60e9eeb907d3b93b6e0e5",
    "papermill": {
     "duration": 0.018871,
     "end_time": "2021-11-28T16:21:51.122474",
     "exception": false,
     "start_time": "2021-11-28T16:21:51.103603",
     "status": "completed"
    },
    "tags": []
   },
   "source": [
    "# Inference\n",
    "\n",
    "Because this competition has a hidden test set - we need to set up inference note-book in order to submit our models. "
   ]
  },
  {
   "cell_type": "markdown",
   "id": "8a813886",
   "metadata": {
    "papermill": {
     "duration": 0.015608,
     "end_time": "2021-11-28T16:21:51.156161",
     "exception": false,
     "start_time": "2021-11-28T16:21:51.140553",
     "status": "completed"
    },
    "tags": []
   },
   "source": [
    "# Prerequisite \n",
    "\n",
    "The additional data have to be added via kaggle's dataset \n",
    "\n",
    "- Petfinder data (test data is unavailable)\n",
    "- attrdictw wheels (../input/attrdictw/attrdict-2.0.1-py2.py3-none-any.whl)\n",
    "- pretrained-model's pth weights (because internet is not available) (import someone's timm-pretrained-weights)\n",
    "- timmaster (for timm )\n",
    "- add model weights\n",
    "- add utility scripts"
   ]
  },
  {
   "cell_type": "markdown",
   "id": "f32d8b46",
   "metadata": {
    "papermill": {
     "duration": 0.015009,
     "end_time": "2021-11-28T16:21:51.186426",
     "exception": false,
     "start_time": "2021-11-28T16:21:51.171417",
     "status": "completed"
    },
    "tags": []
   },
   "source": [
    "# Load libraries "
   ]
  },
  {
   "cell_type": "markdown",
   "id": "904fb835",
   "metadata": {
    "papermill": {
     "duration": 0.017997,
     "end_time": "2021-11-28T16:21:51.219604",
     "exception": false,
     "start_time": "2021-11-28T16:21:51.201607",
     "status": "completed"
    },
    "tags": []
   },
   "source": [
    "No need for pip because we installed them via dataset ^"
   ]
  },
  {
   "cell_type": "code",
   "execution_count": 1,
   "id": "058c0525",
   "metadata": {
    "execution": {
     "iopub.execute_input": "2021-11-28T16:21:51.264596Z",
     "iopub.status.busy": "2021-11-28T16:21:51.263564Z",
     "iopub.status.idle": "2021-11-28T16:22:21.807488Z",
     "shell.execute_reply": "2021-11-28T16:22:21.805913Z",
     "shell.execute_reply.started": "2021-11-28T16:06:37.690434Z"
    },
    "papermill": {
     "duration": 30.572614,
     "end_time": "2021-11-28T16:22:21.807778",
     "exception": false,
     "start_time": "2021-11-28T16:21:51.235164",
     "status": "completed"
    },
    "tags": []
   },
   "outputs": [
    {
     "name": "stdout",
     "output_type": "stream",
     "text": [
      "Processing /kaggle/input/attrdictw/attrdict-2.0.1-py2.py3-none-any.whl\r\n",
      "Requirement already satisfied: six in /opt/conda/lib/python3.7/site-packages (from attrdict==2.0.1) (1.16.0)\r\n",
      "Installing collected packages: attrdict\r\n",
      "Successfully installed attrdict-2.0.1\r\n",
      "\u001b[33mWARNING: Running pip as the 'root' user can result in broken permissions and conflicting behaviour with the system package manager. It is recommended to use a virtual environment instead: https://pip.pypa.io/warnings/venv\u001b[0m\r\n"
     ]
    }
   ],
   "source": [
    "! pip install ../input/attrdictw/attrdict-2.0.1-py2.py3-none-any.whl"
   ]
  },
  {
   "cell_type": "code",
   "execution_count": 2,
   "id": "f0316360",
   "metadata": {
    "execution": {
     "iopub.execute_input": "2021-11-28T16:22:21.874513Z",
     "iopub.status.busy": "2021-11-28T16:22:21.873494Z",
     "iopub.status.idle": "2021-11-28T16:22:21.877224Z",
     "shell.execute_reply": "2021-11-28T16:22:21.878860Z",
     "shell.execute_reply.started": "2021-11-28T16:07:05.737464Z"
    },
    "papermill": {
     "duration": 0.0413,
     "end_time": "2021-11-28T16:22:21.879116",
     "exception": false,
     "start_time": "2021-11-28T16:22:21.837816",
     "status": "completed"
    },
    "tags": []
   },
   "outputs": [],
   "source": [
    "import sys\n",
    "sys.path.append(\"../input/timmmaster/\")"
   ]
  },
  {
   "cell_type": "code",
   "execution_count": 3,
   "id": "f0a78651",
   "metadata": {
    "execution": {
     "iopub.execute_input": "2021-11-28T16:22:21.946363Z",
     "iopub.status.busy": "2021-11-28T16:22:21.945292Z",
     "iopub.status.idle": "2021-11-28T16:22:31.345549Z",
     "shell.execute_reply": "2021-11-28T16:22:31.346540Z",
     "shell.execute_reply.started": "2021-11-28T16:07:05.745317Z"
    },
    "papermill": {
     "duration": 9.439466,
     "end_time": "2021-11-28T16:22:31.346826",
     "exception": false,
     "start_time": "2021-11-28T16:22:21.907360",
     "status": "completed"
    },
    "tags": []
   },
   "outputs": [],
   "source": [
    "import numpy as np # linear algebra\n",
    "import pandas as pd # data processing, CSV file I/O (e.g. pd.read_csv)\n",
    "import random\n",
    "import matplotlib.pyplot as plt\n",
    "import os\n",
    "import tqdm\n",
    "\n",
    "import seaborn as sns\n",
    "from torchvision.io import read_image\n",
    "import torchvision.transforms as T\n",
    "from torchvision.utils import make_grid\n",
    "from attrdict import AttrDict\n",
    "import torch\n",
    "import yaml\n",
    "from sklearn.model_selection import StratifiedKFold\n",
    "import copy\n",
    "import pickle\n",
    "# from tqdm import tqdm_notebook\n",
    "\n",
    "# additional lightning \n",
    "\n",
    "import pytorch_lightning as pl\n",
    "from pytorch_lightning.utilities.seed import seed_everything\n",
    "from pytorch_lightning import callbacks\n",
    "from pytorch_lightning.callbacks.progress import ProgressBarBase\n",
    "from pytorch_lightning.callbacks.early_stopping import EarlyStopping\n",
    "from pytorch_lightning.loggers import TensorBoardLogger\n",
    "from pytorch_lightning import LightningDataModule, LightningModule\n",
    "\n",
    "\n",
    "# pytorch\n",
    "import torch\n",
    "from torch import nn\n",
    "import torch.nn.functional as F\n",
    "from timm import create_model\n",
    "\n",
    "\n",
    "from pawnet_utility import *"
   ]
  },
  {
   "cell_type": "markdown",
   "id": "ace5f4fa",
   "metadata": {
    "papermill": {
     "duration": 0.01694,
     "end_time": "2021-11-28T16:22:31.382273",
     "exception": false,
     "start_time": "2021-11-28T16:22:31.365333",
     "status": "completed"
    },
    "tags": []
   },
   "source": [
    "# Load test data "
   ]
  },
  {
   "cell_type": "code",
   "execution_count": 4,
   "id": "0ea0ddb1",
   "metadata": {
    "execution": {
     "iopub.execute_input": "2021-11-28T16:22:31.426591Z",
     "iopub.status.busy": "2021-11-28T16:22:31.425572Z",
     "iopub.status.idle": "2021-11-28T16:22:31.428291Z",
     "shell.execute_reply": "2021-11-28T16:22:31.428793Z",
     "shell.execute_reply.started": "2021-11-28T16:20:12.805674Z"
    },
    "papermill": {
     "duration": 0.029321,
     "end_time": "2021-11-28T16:22:31.428943",
     "exception": false,
     "start_time": "2021-11-28T16:22:31.399622",
     "status": "completed"
    },
    "tags": []
   },
   "outputs": [],
   "source": [
    "def inference_test(model,valid_loader,criterion,device= \"cpu\"):\n",
    "    \"\"\"\n",
    "    performs inference for submission. Note that because\n",
    "    this is test, there is no actual labels\n",
    "    \"\"\"\n",
    "    model.eval()\n",
    "    y_valid = []\n",
    "    y_pred_valid = []\n",
    "    for i, (x,y) in enumerate(valid_loader):\n",
    "        with torch.no_grad():\n",
    "            pred = model(x.to(device))\n",
    "            pred = torch.sigmoid(pred) * 100.\n",
    "            y_pred_valid.append(pred.squeeze().detach().cpu())\n",
    "            y_valid.append(y.detach().cpu())\n",
    "    # convert from list to tensor\n",
    "    y_valid = torch.cat(y_valid,0)\n",
    "    y_pred_valid = torch.cat(y_pred_valid,0)\n",
    "    if criterion is None:\n",
    "        valid_loss = None\n",
    "    else:\n",
    "        \n",
    "        valid_loss = criterion(y_pred_valid,y_valid).item()\n",
    "    \n",
    "    return valid_loss,y_pred_valid"
   ]
  },
  {
   "cell_type": "code",
   "execution_count": 5,
   "id": "3d96e560",
   "metadata": {
    "execution": {
     "iopub.execute_input": "2021-11-28T16:22:31.468589Z",
     "iopub.status.busy": "2021-11-28T16:22:31.467822Z",
     "iopub.status.idle": "2021-11-28T16:22:31.507686Z",
     "shell.execute_reply": "2021-11-28T16:22:31.506993Z",
     "shell.execute_reply.started": "2021-11-28T16:13:03.623836Z"
    },
    "papermill": {
     "duration": 0.061972,
     "end_time": "2021-11-28T16:22:31.507833",
     "exception": false,
     "start_time": "2021-11-28T16:22:31.445861",
     "status": "completed"
    },
    "tags": []
   },
   "outputs": [],
   "source": [
    "# this is specific to kaggle\n",
    "# if running in GCS, replace with our GCP bucket \n",
    "# get cache location of the dataset \n",
    "# GCS_DS_PATH = KaggleDatasets().get_gcs_path()\n",
    "base_config_manager = BaseConfigLoader(\"../input/config/config.yaml\")\n",
    "model_config = base_config_manager.load_config().model.swin_tiny4_w7_224\n",
    "\n",
    "file_path = base_config_manager.load_config().filepath.kaggle #\"/kaggle/input/petfinder-pawpularity-score/\"\n",
    "test_df = pd.read_csv(os.path.join(file_path,\"test.csv\"))"
   ]
  },
  {
   "cell_type": "code",
   "execution_count": 6,
   "id": "d1fc25e3",
   "metadata": {
    "execution": {
     "iopub.execute_input": "2021-11-28T16:22:31.551431Z",
     "iopub.status.busy": "2021-11-28T16:22:31.550347Z",
     "iopub.status.idle": "2021-11-28T16:22:31.553507Z",
     "shell.execute_reply": "2021-11-28T16:22:31.552930Z",
     "shell.execute_reply.started": "2021-11-28T16:13:05.273410Z"
    },
    "papermill": {
     "duration": 0.027483,
     "end_time": "2021-11-28T16:22:31.553649",
     "exception": false,
     "start_time": "2021-11-28T16:22:31.526166",
     "status": "completed"
    },
    "tags": []
   },
   "outputs": [],
   "source": [
    "test_transformation = T.Compose([\n",
    "                T.Resize([224,224]),# imgnet needs at least 224\n",
    "                T.ConvertImageDtype(torch.float),\n",
    "                T.Normalize(mean=[0.485, 0.456, 0.406], std=[0.229, 0.224, 0.225] ), # imgnet requirements \n",
    "                ]\n",
    "            )\n",
    "\n",
    "\n",
    "test_data = pawnetDataset(annotation_df=test_df,img_dir =os.path.join(file_path,\"test\"), transform = test_transformation,test=True)\n",
    "test_loader = torch.utils.data.DataLoader(test_data,batch_size=64,shuffle=False,num_workers=2)"
   ]
  },
  {
   "cell_type": "markdown",
   "id": "102cb6eb",
   "metadata": {
    "papermill": {
     "duration": 0.01631,
     "end_time": "2021-11-28T16:22:31.586581",
     "exception": false,
     "start_time": "2021-11-28T16:22:31.570271",
     "status": "completed"
    },
    "tags": []
   },
   "source": [
    "# Load weights and inference\n",
    "\n",
    "https://pytorch-lightning.readthedocs.io/en/latest/common/weights_loading.html"
   ]
  },
  {
   "cell_type": "code",
   "execution_count": 7,
   "id": "6083e835",
   "metadata": {
    "execution": {
     "iopub.execute_input": "2021-11-28T16:22:31.624604Z",
     "iopub.status.busy": "2021-11-28T16:22:31.623817Z",
     "iopub.status.idle": "2021-11-28T16:22:31.627868Z",
     "shell.execute_reply": "2021-11-28T16:22:31.627339Z",
     "shell.execute_reply.started": "2021-11-28T16:07:35.883140Z"
    },
    "papermill": {
     "duration": 0.0248,
     "end_time": "2021-11-28T16:22:31.628004",
     "exception": false,
     "start_time": "2021-11-28T16:22:31.603204",
     "status": "completed"
    },
    "tags": []
   },
   "outputs": [],
   "source": [
    "# create model and load checkpoint \n",
    "\n",
    "# load config\n",
    "# this object manages all the configurations\n",
    "\n",
    "# base_config_manager = BaseConfigLoader(\"../input/config/config.yaml\")\n",
    "criterion = torch.nn.BCEWithLogitsLoss()"
   ]
  },
  {
   "cell_type": "code",
   "execution_count": 8,
   "id": "c35a5faa",
   "metadata": {
    "execution": {
     "iopub.execute_input": "2021-11-28T16:22:31.665932Z",
     "iopub.status.busy": "2021-11-28T16:22:31.665141Z",
     "iopub.status.idle": "2021-11-28T16:22:56.769340Z",
     "shell.execute_reply": "2021-11-28T16:22:56.770217Z",
     "shell.execute_reply.started": "2021-11-28T16:18:39.688500Z"
    },
    "papermill": {
     "duration": 25.125913,
     "end_time": "2021-11-28T16:22:56.770484",
     "exception": false,
     "start_time": "2021-11-28T16:22:31.644571",
     "status": "completed"
    },
    "tags": []
   },
   "outputs": [
    {
     "name": "stderr",
     "output_type": "stream",
     "text": [
      "Downloading: \"https://github.com/SwinTransformer/storage/releases/download/v1.0.0/swin_tiny_patch4_window7_224.pth\" to /root/.cache/torch/hub/checkpoints/swin_tiny_patch4_window7_224.pth\n"
     ]
    },
    {
     "name": "stdout",
     "output_type": "stream",
     "text": [
      "no internet... cannot download weights... \n"
     ]
    }
   ],
   "source": [
    "# load and weights - will fail hre because no internet\n",
    "try:\n",
    "    model = pawNetBasic.load_from_checkpoint(checkpoint_path=f\"../input/baseswintinyweights/2d-swin_tiny/pawnet_lightning_swin_tiny4_w7_224/default/version_1/checkpoints/best_loss.ckpt\",criterion=criterion,model_config=model_config)\n",
    "except:\n",
    "    print(\"no internet... cannot download weights... \")    "
   ]
  },
  {
   "cell_type": "code",
   "execution_count": 9,
   "id": "19cc56cd",
   "metadata": {
    "execution": {
     "iopub.execute_input": "2021-11-28T16:22:56.825569Z",
     "iopub.status.busy": "2021-11-28T16:22:56.812100Z",
     "iopub.status.idle": "2021-11-28T16:23:00.408928Z",
     "shell.execute_reply": "2021-11-28T16:23:00.408365Z",
     "shell.execute_reply.started": "2021-11-28T16:19:02.125079Z"
    },
    "papermill": {
     "duration": 3.619641,
     "end_time": "2021-11-28T16:23:00.409109",
     "exception": false,
     "start_time": "2021-11-28T16:22:56.789468",
     "status": "completed"
    },
    "tags": []
   },
   "outputs": [],
   "source": [
    "# copy weights to torch cache\n",
    "\n",
    "! cp ../input/swin-tiny-patch-original-weights/swin_tiny_patch4_window7_224.pth /root/.cache/torch/hub/checkpoints/"
   ]
  },
  {
   "cell_type": "code",
   "execution_count": 10,
   "id": "f92c04aa",
   "metadata": {
    "execution": {
     "iopub.execute_input": "2021-11-28T16:23:00.451771Z",
     "iopub.status.busy": "2021-11-28T16:23:00.451045Z",
     "iopub.status.idle": "2021-11-28T16:23:29.980723Z",
     "shell.execute_reply": "2021-11-28T16:23:29.981342Z",
     "shell.execute_reply.started": "2021-11-28T16:20:15.864819Z"
    },
    "papermill": {
     "duration": 29.554787,
     "end_time": "2021-11-28T16:23:29.981537",
     "exception": false,
     "start_time": "2021-11-28T16:23:00.426750",
     "status": "completed"
    },
    "tags": []
   },
   "outputs": [
    {
     "name": "stdout",
     "output_type": "stream",
     "text": [
      "Loading fold 1 weights and perform inference\n",
      "Loading fold 2 weights and perform inference\n",
      "Loading fold 3 weights and perform inference\n",
      "Loading fold 4 weights and perform inference\n",
      "Loading fold 5 weights and perform inference\n"
     ]
    }
   ],
   "source": [
    "\n",
    "# predict\n",
    "# create empty array\n",
    "pred_all = np.zeros(len(test_df))\n",
    "\n",
    "# loop over folds \n",
    "for i in range(1,6):\n",
    "    print(f\"Loading fold {i} weights and perform inference\") # \n",
    "    model = pawNetBasic.load_from_checkpoint(checkpoint_path=f\"../input/baseswintinyweights/2d-swin_tiny/pawnet_lightning_swin_tiny4_w7_224/default/version_{i}/checkpoints/best_loss.ckpt\",criterion=criterion,model_config=model_config)\n",
    "    model = model.to(\"cuda\")\n",
    "    _,pred = inference_test(model,test_loader,criterion=None,device=\"cuda\")\n",
    "    pred_all += pred.numpy()"
   ]
  },
  {
   "cell_type": "code",
   "execution_count": 11,
   "id": "2a549949",
   "metadata": {
    "execution": {
     "iopub.execute_input": "2021-11-28T16:23:30.025034Z",
     "iopub.status.busy": "2021-11-28T16:23:30.023954Z",
     "iopub.status.idle": "2021-11-28T16:23:30.042347Z",
     "shell.execute_reply": "2021-11-28T16:23:30.042932Z",
     "shell.execute_reply.started": "2021-11-28T16:20:52.688414Z"
    },
    "papermill": {
     "duration": 0.041748,
     "end_time": "2021-11-28T16:23:30.043124",
     "exception": false,
     "start_time": "2021-11-28T16:23:30.001376",
     "status": "completed"
    },
    "tags": []
   },
   "outputs": [
    {
     "name": "stderr",
     "output_type": "stream",
     "text": [
      "/opt/conda/lib/python3.7/site-packages/ipykernel_launcher.py:3: SettingWithCopyWarning: \n",
      "A value is trying to be set on a copy of a slice from a DataFrame.\n",
      "Try using .loc[row_indexer,col_indexer] = value instead\n",
      "\n",
      "See the caveats in the documentation: https://pandas.pydata.org/pandas-docs/stable/user_guide/indexing.html#returning-a-view-versus-a-copy\n",
      "  This is separate from the ipykernel package so we can avoid doing imports until\n"
     ]
    }
   ],
   "source": [
    "# create submission\n",
    "sub = test_df[[\"Id\"]]\n",
    "sub[\"Pawpularity\"] = pred_all / 5"
   ]
  },
  {
   "cell_type": "code",
   "execution_count": 12,
   "id": "51f12f61",
   "metadata": {
    "execution": {
     "iopub.execute_input": "2021-11-28T16:23:30.089609Z",
     "iopub.status.busy": "2021-11-28T16:23:30.088855Z",
     "iopub.status.idle": "2021-11-28T16:23:30.103377Z",
     "shell.execute_reply": "2021-11-28T16:23:30.103922Z",
     "shell.execute_reply.started": "2021-11-28T16:20:53.620202Z"
    },
    "papermill": {
     "duration": 0.041545,
     "end_time": "2021-11-28T16:23:30.104094",
     "exception": false,
     "start_time": "2021-11-28T16:23:30.062549",
     "status": "completed"
    },
    "tags": []
   },
   "outputs": [
    {
     "data": {
      "text/html": [
       "<div>\n",
       "<style scoped>\n",
       "    .dataframe tbody tr th:only-of-type {\n",
       "        vertical-align: middle;\n",
       "    }\n",
       "\n",
       "    .dataframe tbody tr th {\n",
       "        vertical-align: top;\n",
       "    }\n",
       "\n",
       "    .dataframe thead th {\n",
       "        text-align: right;\n",
       "    }\n",
       "</style>\n",
       "<table border=\"1\" class=\"dataframe\">\n",
       "  <thead>\n",
       "    <tr style=\"text-align: right;\">\n",
       "      <th></th>\n",
       "      <th>Id</th>\n",
       "      <th>Pawpularity</th>\n",
       "    </tr>\n",
       "  </thead>\n",
       "  <tbody>\n",
       "    <tr>\n",
       "      <th>0</th>\n",
       "      <td>4128bae22183829d2b5fea10effdb0c3</td>\n",
       "      <td>45.803663</td>\n",
       "    </tr>\n",
       "    <tr>\n",
       "      <th>1</th>\n",
       "      <td>43a2262d7738e3d420d453815151079e</td>\n",
       "      <td>48.055440</td>\n",
       "    </tr>\n",
       "    <tr>\n",
       "      <th>2</th>\n",
       "      <td>4e429cead1848a298432a0acad014c9d</td>\n",
       "      <td>47.865377</td>\n",
       "    </tr>\n",
       "    <tr>\n",
       "      <th>3</th>\n",
       "      <td>80bc3ccafcc51b66303c2c263aa38486</td>\n",
       "      <td>48.002266</td>\n",
       "    </tr>\n",
       "    <tr>\n",
       "      <th>4</th>\n",
       "      <td>8f49844c382931444e68dffbe20228f4</td>\n",
       "      <td>47.467744</td>\n",
       "    </tr>\n",
       "  </tbody>\n",
       "</table>\n",
       "</div>"
      ],
      "text/plain": [
       "                                 Id  Pawpularity\n",
       "0  4128bae22183829d2b5fea10effdb0c3    45.803663\n",
       "1  43a2262d7738e3d420d453815151079e    48.055440\n",
       "2  4e429cead1848a298432a0acad014c9d    47.865377\n",
       "3  80bc3ccafcc51b66303c2c263aa38486    48.002266\n",
       "4  8f49844c382931444e68dffbe20228f4    47.467744"
      ]
     },
     "execution_count": 12,
     "metadata": {},
     "output_type": "execute_result"
    }
   ],
   "source": [
    "sub.head()"
   ]
  },
  {
   "cell_type": "code",
   "execution_count": 13,
   "id": "fd3b23d1",
   "metadata": {
    "execution": {
     "iopub.execute_input": "2021-11-28T16:23:30.150204Z",
     "iopub.status.busy": "2021-11-28T16:23:30.149072Z",
     "iopub.status.idle": "2021-11-28T16:23:30.155514Z",
     "shell.execute_reply": "2021-11-28T16:23:30.154925Z",
     "shell.execute_reply.started": "2021-11-28T16:20:55.326466Z"
    },
    "papermill": {
     "duration": 0.031383,
     "end_time": "2021-11-28T16:23:30.155654",
     "exception": false,
     "start_time": "2021-11-28T16:23:30.124271",
     "status": "completed"
    },
    "tags": []
   },
   "outputs": [],
   "source": [
    "sub.to_csv(\"submission.csv\", index=False)"
   ]
  }
 ],
 "metadata": {
  "kernelspec": {
   "display_name": "Python 3",
   "language": "python",
   "name": "python3"
  },
  "language_info": {
   "codemirror_mode": {
    "name": "ipython",
    "version": 3
   },
   "file_extension": ".py",
   "mimetype": "text/x-python",
   "name": "python",
   "nbconvert_exporter": "python",
   "pygments_lexer": "ipython3",
   "version": "3.7.10"
  },
  "papermill": {
   "default_parameters": {},
   "duration": 111.656523,
   "end_time": "2021-11-28T16:23:33.409262",
   "environment_variables": {},
   "exception": null,
   "input_path": "__notebook__.ipynb",
   "output_path": "__notebook__.ipynb",
   "parameters": {},
   "start_time": "2021-11-28T16:21:41.752739",
   "version": "2.3.3"
  }
 },
 "nbformat": 4,
 "nbformat_minor": 5
}
