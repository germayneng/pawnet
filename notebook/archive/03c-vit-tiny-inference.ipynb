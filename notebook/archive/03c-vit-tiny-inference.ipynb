{
 "cells": [
  {
   "cell_type": "markdown",
   "id": "f3386562",
   "metadata": {
    "_cell_guid": "b1076dfc-b9ad-4769-8c92-a6c4dae69d19",
    "_uuid": "8f2839f25d086af736a60e9eeb907d3b93b6e0e5",
    "papermill": {
     "duration": 0.017132,
     "end_time": "2021-11-27T09:50:21.057385",
     "exception": false,
     "start_time": "2021-11-27T09:50:21.040253",
     "status": "completed"
    },
    "tags": []
   },
   "source": [
    "# Inference\n",
    "\n",
    "Because this competition has a hidden test set - we need to set up inference note-book in order to submit our models. "
   ]
  },
  {
   "cell_type": "markdown",
   "id": "ab122fe4",
   "metadata": {
    "papermill": {
     "duration": 0.013424,
     "end_time": "2021-11-27T09:50:21.086877",
     "exception": false,
     "start_time": "2021-11-27T09:50:21.073453",
     "status": "completed"
    },
    "tags": []
   },
   "source": [
    "# Prerequisite \n",
    "\n",
    "The additional data have to be added via kaggle's dataset \n",
    "\n",
    "- Petfinder data (test data is unavailable) \n",
    "- attrdictw wheels (../input/attrdictw/attrdict-2.0.1-py2.py3-none-any.whl) \n",
    "- pretrained-model's pth weights (because internet is not available) (../input/resnet34/resnet34-43635321.pth) \n",
    "- timmaster (for timm ) "
   ]
  },
  {
   "cell_type": "markdown",
   "id": "25bcf6c8",
   "metadata": {
    "papermill": {
     "duration": 0.01356,
     "end_time": "2021-11-27T09:50:21.114009",
     "exception": false,
     "start_time": "2021-11-27T09:50:21.100449",
     "status": "completed"
    },
    "tags": []
   },
   "source": [
    "# Load libraries "
   ]
  },
  {
   "cell_type": "markdown",
   "id": "2fdbfc12",
   "metadata": {
    "papermill": {
     "duration": 0.013474,
     "end_time": "2021-11-27T09:50:21.141165",
     "exception": false,
     "start_time": "2021-11-27T09:50:21.127691",
     "status": "completed"
    },
    "tags": []
   },
   "source": [
    "No need for pip because we installed them via dataset ^"
   ]
  },
  {
   "cell_type": "code",
   "execution_count": 1,
   "id": "752b41e9",
   "metadata": {
    "execution": {
     "iopub.execute_input": "2021-11-27T09:50:21.174613Z",
     "iopub.status.busy": "2021-11-27T09:50:21.172989Z",
     "iopub.status.idle": "2021-11-27T09:50:49.382969Z",
     "shell.execute_reply": "2021-11-27T09:50:49.382144Z",
     "shell.execute_reply.started": "2021-11-27T09:43:53.198476Z"
    },
    "papermill": {
     "duration": 28.228022,
     "end_time": "2021-11-27T09:50:49.383146",
     "exception": false,
     "start_time": "2021-11-27T09:50:21.155124",
     "status": "completed"
    },
    "tags": []
   },
   "outputs": [
    {
     "name": "stdout",
     "output_type": "stream",
     "text": [
      "Processing /kaggle/input/attrdictw/attrdict-2.0.1-py2.py3-none-any.whl\r\n",
      "Requirement already satisfied: six in /opt/conda/lib/python3.7/site-packages (from attrdict==2.0.1) (1.16.0)\r\n",
      "Installing collected packages: attrdict\r\n",
      "Successfully installed attrdict-2.0.1\r\n",
      "\u001b[33mWARNING: Running pip as the 'root' user can result in broken permissions and conflicting behaviour with the system package manager. It is recommended to use a virtual environment instead: https://pip.pypa.io/warnings/venv\u001b[0m\r\n"
     ]
    }
   ],
   "source": [
    "! pip install ../input/attrdictw/attrdict-2.0.1-py2.py3-none-any.whl"
   ]
  },
  {
   "cell_type": "code",
   "execution_count": 2,
   "id": "0a1df2e2",
   "metadata": {
    "execution": {
     "iopub.execute_input": "2021-11-27T09:50:49.418778Z",
     "iopub.status.busy": "2021-11-27T09:50:49.418000Z",
     "iopub.status.idle": "2021-11-27T09:50:49.420463Z",
     "shell.execute_reply": "2021-11-27T09:50:49.420023Z",
     "shell.execute_reply.started": "2021-11-27T09:44:50.103381Z"
    },
    "papermill": {
     "duration": 0.021822,
     "end_time": "2021-11-27T09:50:49.420567",
     "exception": false,
     "start_time": "2021-11-27T09:50:49.398745",
     "status": "completed"
    },
    "tags": []
   },
   "outputs": [],
   "source": [
    "import sys\n",
    "sys.path.append(\"../input/timmmaster/\")"
   ]
  },
  {
   "cell_type": "code",
   "execution_count": 3,
   "id": "ab6f5592",
   "metadata": {
    "execution": {
     "iopub.execute_input": "2021-11-27T09:50:49.458203Z",
     "iopub.status.busy": "2021-11-27T09:50:49.453785Z",
     "iopub.status.idle": "2021-11-27T09:50:57.521984Z",
     "shell.execute_reply": "2021-11-27T09:50:57.523288Z",
     "shell.execute_reply.started": "2021-11-27T09:44:52.194368Z"
    },
    "papermill": {
     "duration": 8.087984,
     "end_time": "2021-11-27T09:50:57.523522",
     "exception": false,
     "start_time": "2021-11-27T09:50:49.435538",
     "status": "completed"
    },
    "tags": []
   },
   "outputs": [],
   "source": [
    "import numpy as np # linear algebra\n",
    "import pandas as pd # data processing, CSV file I/O (e.g. pd.read_csv)\n",
    "import random\n",
    "import matplotlib.pyplot as plt\n",
    "import os\n",
    "import tqdm\n",
    "\n",
    "import seaborn as sns\n",
    "from torchvision.io import read_image\n",
    "import torchvision.transforms as T\n",
    "from torchvision.utils import make_grid\n",
    "from attrdict import AttrDict\n",
    "import torch\n",
    "import yaml\n",
    "from sklearn.model_selection import StratifiedKFold\n",
    "import copy\n",
    "import pickle\n",
    "# from tqdm import tqdm_notebook\n",
    "\n",
    "# additional lightning \n",
    "\n",
    "import pytorch_lightning as pl\n",
    "from pytorch_lightning.utilities.seed import seed_everything\n",
    "from pytorch_lightning import callbacks\n",
    "from pytorch_lightning.callbacks.progress import ProgressBarBase\n",
    "from pytorch_lightning.callbacks.early_stopping import EarlyStopping\n",
    "from pytorch_lightning.loggers import TensorBoardLogger\n",
    "from pytorch_lightning import LightningDataModule, LightningModule\n",
    "\n",
    "\n",
    "# pytorch\n",
    "import torch\n",
    "from torch import nn\n",
    "import torch.nn.functional as F\n",
    "from timm import create_model"
   ]
  },
  {
   "cell_type": "code",
   "execution_count": 4,
   "id": "a2b6d6f5",
   "metadata": {
    "execution": {
     "iopub.execute_input": "2021-11-27T09:50:57.587617Z",
     "iopub.status.busy": "2021-11-27T09:50:57.586706Z",
     "iopub.status.idle": "2021-11-27T09:50:57.625004Z",
     "shell.execute_reply": "2021-11-27T09:50:57.626630Z",
     "shell.execute_reply.started": "2021-11-27T09:46:22.798127Z"
    },
    "papermill": {
     "duration": 0.076325,
     "end_time": "2021-11-27T09:50:57.627152",
     "exception": false,
     "start_time": "2021-11-27T09:50:57.550827",
     "status": "completed"
    },
    "tags": []
   },
   "outputs": [],
   "source": [
    "class pawnetDataset(torch.utils.data.Dataset):\n",
    "    \"\"\"\n",
    "    Dataset\n",
    "    Based on template https://pytorch.org/tutorials/beginner/basics/data_tutorial.html\n",
    "    \"\"\"\n",
    "    def __init__(self,annotation_df, img_dir,transform=None,target_transform=None,test=False,custom_len=None):\n",
    "        self.annotation_df = annotation_df\n",
    "        self.img_dir = img_dir\n",
    "        self.transform = transform\n",
    "        self.target_transform = target_transform\n",
    "        self.test=test # if dataset contains labels\n",
    "        self.custom_len=custom_len # if we want to define our own epoch\n",
    "        \n",
    "        \n",
    "    def __len__(self):\n",
    "        \"\"\"Define 1 epoch\"\"\"\n",
    "        if self.custom_len is None:\n",
    "            return len(self.annotation_df)\n",
    "        else:\n",
    "            return self.custom_len\n",
    "    \n",
    "    def __getitem__(self,idx):\n",
    "        \"\"\"called batch num of times\"\"\"\n",
    "        img_path = os.path.join(self.img_dir, self.annotation_df.iloc[idx, 0]) # ID is column index 0\n",
    "        image = read_image(img_path+\".jpg\")\n",
    "        if self.test:\n",
    "            label = 0\n",
    "        else:\n",
    "            label = self.annotation_df.iloc[idx, 13] # Pawpularity is column index 13\n",
    "            \n",
    "        if self.transform:\n",
    "            image = self.transform(image)\n",
    "        if self.target_transform:\n",
    "            label = self.target_transform(label)\n",
    "        return image, label\n",
    "\n",
    "class pawNetBasic(pl.LightningModule):\n",
    "    \"\"\"\n",
    "    First cut basic pawNet model\n",
    "    we will improve on this - this serves as skeleton code\n",
    "    for other models\n",
    "    \n",
    "    timm contains collection of several pretrained models\n",
    "    \n",
    "    This is a lightning variant *\n",
    "    \n",
    "    \n",
    "    lightning model requires the following methods:\n",
    "    1. forward \n",
    "    2. training_step (logic inside the iteration loop) , validation_step, test_step (not stable on tpu)\n",
    "    3. training_epoch_end, validation_epoch_end\n",
    "    4. configure_optimizers \n",
    "    \n",
    "    other configurable list here https://pytorch-lightning.readthedocs.io/en/latest/common/lightning_module.html\n",
    "    \n",
    "    \"\"\"\n",
    "    \n",
    "    def __init__(self,criterion, dropout=0.2):\n",
    "        super().__init__()\n",
    "        self.dropout = 0.2\n",
    "        self._criterion = criterion\n",
    "        self.train_loss = []\n",
    "        self.train_rmse = []\n",
    "        self.valid_rmse = []\n",
    "        \n",
    "        # initialize layers\n",
    "        # https://fastai.github.io/timmdocs/tutorial_feature_extractor\n",
    "        # remove FCL by setting num_classes=0\n",
    "        # removed prelogit as well as head (final linear layer)\n",
    "        self.pretrained = create_model(\n",
    "#             base_config_manager.load_config().model.pretrained, \n",
    "            # todo: add to config \n",
    "            # \"vit_large_patch32_224_in21k\", # out of memory in kaggle kernel\n",
    "            #\"vit_large_patch16_224_in21k\", # out of memory\n",
    "            #\"vit_base_patch16_224_in21k\", # some error after 2 hours?\n",
    "            \"vit_tiny_patch16_224\",\n",
    "            pretrained=True, \n",
    "            num_classes=0, \n",
    "            in_chans=3\n",
    "        )\n",
    "#         self.global_avg_pooling = torch.nn.AdaptiveAvgPool2d(1) # timm pretrain comes with pooling\n",
    "        self.linear_1 = torch.nn.Linear(in_features=192,out_features=1000)\n",
    "        self.prelu = torch.nn.PReLU()\n",
    "        self.linear_2 = torch.nn.Linear(in_features=1000,out_features=1)\n",
    "        \n",
    "    def forward(self,x):\n",
    "        out = self.pretrained(x)\n",
    "#         out = out.view(out.size(0), -1) # reshape for linear. timm already returns with CHW flatten\n",
    "        out = torch.nn.Dropout(self.dropout)(out)\n",
    "        out = self.linear_1(out)\n",
    "        out = self.prelu(out)\n",
    "        out = self.linear_2(out)\n",
    "        \n",
    "        \n",
    "        \n",
    "        return out\n",
    "    \n",
    "    \n",
    "    def training_step(self, batch, batch_idx):\n",
    "        \"\"\"\n",
    "        logic instead batch loop\n",
    "        \"\"\"\n",
    "        loss, pred, labels = self.__share_step(batch, 'train')\n",
    "        \n",
    "        return {'loss': loss, 'pred': pred, 'labels': labels}\n",
    "        \n",
    "    def validation_step(self, batch, batch_idx):\n",
    "        \"\"\"\n",
    "        logic instead batch loop for validation\n",
    "        \"\"\"\n",
    "        \n",
    "        loss, pred, labels = self.__share_step(batch, 'val')\n",
    "        return {'loss': loss, 'pred': pred, 'labels': labels}\n",
    "    \n",
    "    def __share_step(self, batch, mode):\n",
    "        images, labels = batch\n",
    "        labels = labels.float() / 100.0\n",
    "        \n",
    "        logits = self.forward(images).squeeze(1)\n",
    "        loss = self._criterion(logits, labels)\n",
    "        \n",
    "        # return logloss for training mode, scaled for others\n",
    "        pred = logits.sigmoid().detach().cpu() * 100.\n",
    "        labels = labels.detach().cpu() * 100.\n",
    "        return loss, pred, labels\n",
    "        \n",
    "    def training_epoch_end(self, outputs):\n",
    "        \"\"\"\n",
    "        called every end of epoch, contains logic\n",
    "        at end of epoch\n",
    "        \"\"\"\n",
    "        self.__share_epoch_end(outputs, mode = 'train')\n",
    "\n",
    "    def validation_epoch_end(self, outputs):\n",
    "        self.__share_epoch_end(outputs, mode = 'val')    \n",
    "        \n",
    "    def __share_epoch_end(self, outputs, mode):\n",
    "        \"\"\"\n",
    "        output is a list of output defined in\n",
    "        `training_step` as well as `validation_step`.\n",
    "        Need to iterate through each iteration's output.\n",
    "        the output was a dict\n",
    "        \"\"\"\n",
    "        preds = []\n",
    "        labels = []\n",
    "        losses = []\n",
    "        for out in outputs:\n",
    "            pred, label, loss = out['pred'], out['labels'], out[\"loss\"]\n",
    "            preds.append(pred)\n",
    "            labels.append(label)\n",
    "            losses.append(loss.view(-1,1))\n",
    "        preds = torch.cat(preds)\n",
    "        labels = torch.cat(labels)\n",
    "        losses = torch.cat(losses)\n",
    "        if mode == \"train\":\n",
    "            loglogss_metrics = losses.mean() # average logloss across iterations\n",
    "            self.log(f'{mode}_logloss', loglogss_metrics, prog_bar=True)\n",
    "        else:\n",
    "            print(f\"{mode}: skip logging for logloss\")\n",
    "            \n",
    "        # RMSE\n",
    "        metrics = torch.sqrt(((labels - preds) ** 2).mean())\n",
    "        # https://pytorch-lightning.readthedocs.io/en/stable/extensions/logging.html\n",
    "        # automatic accumulation at end of epoch for training, true always for test,validation loops\n",
    "        self.log(f'{mode}_RMSE_loss', metrics, prog_bar=True)\n",
    "        \n",
    "        \n",
    "    def configure_optimizers(self):\n",
    "        \"\"\"\n",
    "        https://pytorch-lightning.readthedocs.io/en/latest/api/pytorch_lightning.core.lightning.html#pytorch_lightning.core.lightning.LightningModule.configure_optimizers\n",
    "        \n",
    "        Any of these 6 options.\n",
    "\n",
    "        Single optimizer.\n",
    "\n",
    "        List or Tuple of optimizers.\n",
    "\n",
    "        Two lists - The first list has multiple optimizers, and the second has multiple LR schedulers (or multiple lr_scheduler_config).\n",
    "\n",
    "        Dictionary, with an \"optimizer\" key, and (optionally) a \"lr_scheduler\" key whose value is a single LR scheduler or lr_scheduler_config.\n",
    "\n",
    "        Tuple of dictionaries as described above, with an optional \"frequency\" key.\n",
    "\n",
    "        None - Fit will run without any optimizer.\n",
    "        \"\"\"\n",
    "        #opt = torch.optim.Adam(self.parameters())\n",
    "        # TODO: add learning rate to config\n",
    "        opt = torch.optim.AdamW(self.parameters(),lr=1e-5)\n",
    "        scheduler = torch.optim.lr_scheduler.CosineAnnealingWarmRestarts(opt,T_0=20,eta_min=1e-4)\n",
    "  \n",
    "        return [opt]\n",
    "\n",
    "\n",
    "\n",
    "def inference_test(model,valid_loader,criterion,device= \"cpu\"):\n",
    "    \"\"\"\n",
    "    performs inference for submission. Note that because\n",
    "    this is test, there is no actual labels\n",
    "    \"\"\"\n",
    "    model.eval()\n",
    "    y_valid = []\n",
    "    y_pred_valid = []\n",
    "    for i, (x,y) in enumerate(valid_loader):\n",
    "        with torch.no_grad():\n",
    "            pred = model(x.to(device))\n",
    "            pred = torch.sigmoid(pred) * 100.\n",
    "            y_pred_valid.append(pred.squeeze().detach().cpu())\n",
    "            y_valid.append(y.detach().cpu())\n",
    "    # convert from list to tensor\n",
    "    y_valid = torch.cat(y_valid,0)\n",
    "    y_pred_valid = torch.cat(y_pred_valid,0)\n",
    "    if criterion is None:\n",
    "        valid_loss = None\n",
    "    else:\n",
    "        \n",
    "        valid_loss = criterion(y_pred_valid,y_valid).item()\n",
    "    \n",
    "    return valid_loss,y_pred_valid"
   ]
  },
  {
   "cell_type": "code",
   "execution_count": 5,
   "id": "3d6e8432",
   "metadata": {
    "execution": {
     "iopub.execute_input": "2021-11-27T09:50:57.680514Z",
     "iopub.status.busy": "2021-11-27T09:50:57.679830Z",
     "iopub.status.idle": "2021-11-27T09:50:57.684115Z",
     "shell.execute_reply": "2021-11-27T09:50:57.683626Z",
     "shell.execute_reply.started": "2021-11-27T09:46:24.672469Z"
    },
    "papermill": {
     "duration": 0.028477,
     "end_time": "2021-11-27T09:50:57.684272",
     "exception": false,
     "start_time": "2021-11-27T09:50:57.655795",
     "status": "completed"
    },
    "tags": []
   },
   "outputs": [],
   "source": [
    "\"\"\"\n",
    "To add to utility.py\n",
    "\"\"\"\n",
    "\n",
    "# def seed_everything(seed=1234):\n",
    "#     \"\"\"\n",
    "#     Utility function to seed everything\n",
    "#     source: https://www.kaggle.com/bminixhofer/deterministic-neural-networks-using-pytorch\n",
    "#     \"\"\"\n",
    "#     random.seed(seed)\n",
    "#     os.environ['PYTHONHASHSEED'] = str(seed)\n",
    "#     np.random.seed(seed)\n",
    "#     torch.manual_seed(seed)\n",
    "#     torch.cuda.manual_seed(seed)\n",
    "#     torch.backends.cudnn.deterministic = True\n",
    "\n",
    "    \n",
    "\n",
    "def read_yaml(filename):\n",
    "    \"\"\"\n",
    "    Read yaml configuation and returns the dict\n",
    "\n",
    "    Parameters\n",
    "    ----------\n",
    "    filename: string\n",
    "        Path including yaml file name\n",
    "    \"\"\"\n",
    "\n",
    "    with open(filename) as f:\n",
    "        config = yaml.safe_load(f)\n",
    "\n",
    "    return config\n",
    "\n",
    "\n",
    "    \n",
    "# configs\n",
    "\n",
    "# config is different in kaggle\n",
    "\n",
    "\n",
    "class BaseConfigLoader:\n",
    "    \n",
    "    def __init__(self,config_path):\n",
    "        self.config = read_yaml(config_path)\n",
    "            \n",
    "    def load_config(self):\n",
    "        return AttrDict(self.config)"
   ]
  },
  {
   "cell_type": "markdown",
   "id": "bcae5632",
   "metadata": {
    "papermill": {
     "duration": 0.014683,
     "end_time": "2021-11-27T09:50:57.715756",
     "exception": false,
     "start_time": "2021-11-27T09:50:57.701073",
     "status": "completed"
    },
    "tags": []
   },
   "source": [
    "# Load test data "
   ]
  },
  {
   "cell_type": "code",
   "execution_count": 6,
   "id": "2ef1afb8",
   "metadata": {
    "execution": {
     "iopub.execute_input": "2021-11-27T09:50:57.749887Z",
     "iopub.status.busy": "2021-11-27T09:50:57.749355Z",
     "iopub.status.idle": "2021-11-27T09:50:57.771015Z",
     "shell.execute_reply": "2021-11-27T09:50:57.770560Z",
     "shell.execute_reply.started": "2021-11-27T09:46:27.521721Z"
    },
    "papermill": {
     "duration": 0.040513,
     "end_time": "2021-11-27T09:50:57.771132",
     "exception": false,
     "start_time": "2021-11-27T09:50:57.730619",
     "status": "completed"
    },
    "tags": []
   },
   "outputs": [],
   "source": [
    "# this is specific to kaggle\n",
    "# if running in GCS, replace with our GCP bucket \n",
    "# get cache location of the dataset \n",
    "# GCS_DS_PATH = KaggleDatasets().get_gcs_path()\n",
    "base_config_manager = BaseConfigLoader(\"../input/config/config.yaml\")\n",
    "file_path = base_config_manager.load_config().filepath.kaggle #\"/kaggle/input/petfinder-pawpularity-score/\"\n",
    "test_df = pd.read_csv(os.path.join(file_path,\"test.csv\"))"
   ]
  },
  {
   "cell_type": "code",
   "execution_count": 7,
   "id": "7393c215",
   "metadata": {
    "execution": {
     "iopub.execute_input": "2021-11-27T09:50:57.806429Z",
     "iopub.status.busy": "2021-11-27T09:50:57.802463Z",
     "iopub.status.idle": "2021-11-27T09:50:57.808662Z",
     "shell.execute_reply": "2021-11-27T09:50:57.808250Z",
     "shell.execute_reply.started": "2021-11-27T09:46:29.627714Z"
    },
    "papermill": {
     "duration": 0.022944,
     "end_time": "2021-11-27T09:50:57.808768",
     "exception": false,
     "start_time": "2021-11-27T09:50:57.785824",
     "status": "completed"
    },
    "tags": []
   },
   "outputs": [],
   "source": [
    "test_transformation = T.Compose([\n",
    "                T.Resize([224,224]),# imgnet needs at least 224\n",
    "                T.ConvertImageDtype(torch.float),\n",
    "                T.Normalize(mean=[0.485, 0.456, 0.406], std=[0.229, 0.224, 0.225] ), # imgnet requirements \n",
    "                ]\n",
    "            )\n",
    "\n",
    "\n",
    "test_data = pawnetDataset(annotation_df=test_df,img_dir =os.path.join(file_path,\"test\"), transform = test_transformation,test=True)\n",
    "test_loader = torch.utils.data.DataLoader(test_data,batch_size=64,shuffle=False,num_workers=2)"
   ]
  },
  {
   "cell_type": "markdown",
   "id": "a6ae695a",
   "metadata": {
    "papermill": {
     "duration": 0.014402,
     "end_time": "2021-11-27T09:50:57.837718",
     "exception": false,
     "start_time": "2021-11-27T09:50:57.823316",
     "status": "completed"
    },
    "tags": []
   },
   "source": [
    "# Load weights and inference\n",
    "\n",
    "https://pytorch-lightning.readthedocs.io/en/latest/common/weights_loading.html"
   ]
  },
  {
   "cell_type": "code",
   "execution_count": 8,
   "id": "0f8e044f",
   "metadata": {
    "execution": {
     "iopub.execute_input": "2021-11-27T09:50:57.870554Z",
     "iopub.status.busy": "2021-11-27T09:50:57.870037Z",
     "iopub.status.idle": "2021-11-27T09:50:57.873724Z",
     "shell.execute_reply": "2021-11-27T09:50:57.873247Z",
     "shell.execute_reply.started": "2021-11-27T09:46:31.676891Z"
    },
    "papermill": {
     "duration": 0.021545,
     "end_time": "2021-11-27T09:50:57.873831",
     "exception": false,
     "start_time": "2021-11-27T09:50:57.852286",
     "status": "completed"
    },
    "tags": []
   },
   "outputs": [],
   "source": [
    "# create model and load checkpoint \n",
    "\n",
    "# load config\n",
    "# this object manages all the configurations\n",
    "\n",
    "# base_config_manager = BaseConfigLoader(\"../input/config/config.yaml\")\n",
    "criterion = torch.nn.BCEWithLogitsLoss()"
   ]
  },
  {
   "cell_type": "code",
   "execution_count": 9,
   "id": "c9c5d4f6",
   "metadata": {
    "execution": {
     "iopub.execute_input": "2021-11-27T09:50:57.905745Z",
     "iopub.status.busy": "2021-11-27T09:50:57.904939Z",
     "iopub.status.idle": "2021-11-27T09:51:19.389382Z",
     "shell.execute_reply": "2021-11-27T09:51:19.390393Z",
     "shell.execute_reply.started": "2021-11-27T09:46:34.643747Z"
    },
    "papermill": {
     "duration": 21.502246,
     "end_time": "2021-11-27T09:51:19.390608",
     "exception": false,
     "start_time": "2021-11-27T09:50:57.888362",
     "status": "completed"
    },
    "tags": []
   },
   "outputs": [
    {
     "name": "stdout",
     "output_type": "stream",
     "text": [
      "no internet... cannot download weights... \n"
     ]
    }
   ],
   "source": [
    "# load and weights - will fail hre because no internet\n",
    "try:\n",
    "    model = pawNetBasic.load_from_checkpoint(checkpoint_path=f\"../input/vit-small/pawnet_lightning_vit_tiny_patch16_224/default/version_0/checkpoints/best_loss.ckpt\",criterion=criterion)\n",
    "except:\n",
    "    print(\"no internet... cannot download weights... \")\n",
    "    "
   ]
  },
  {
   "cell_type": "code",
   "execution_count": 10,
   "id": "7e747ee1",
   "metadata": {
    "execution": {
     "iopub.execute_input": "2021-11-27T09:51:19.452930Z",
     "iopub.status.busy": "2021-11-27T09:51:19.452192Z",
     "iopub.status.idle": "2021-11-27T09:51:20.493870Z",
     "shell.execute_reply": "2021-11-27T09:51:20.492377Z",
     "shell.execute_reply.started": "2021-11-27T09:47:01.329758Z"
    },
    "papermill": {
     "duration": 1.076374,
     "end_time": "2021-11-27T09:51:20.494035",
     "exception": false,
     "start_time": "2021-11-27T09:51:19.417661",
     "status": "completed"
    },
    "tags": []
   },
   "outputs": [],
   "source": [
    "# copy weights to torch cache\n",
    "\n",
    "! cp ../input/vittiny/Ti_16-i21k-300ep-lr_0.001-aug_none-wd_0.03-do_0.0-sd_0.0--imagenet2012-steps_20k-lr_0.03-res_224.npz /root/.cache/torch/hub/checkpoints/"
   ]
  },
  {
   "cell_type": "code",
   "execution_count": 11,
   "id": "ddc0e52f",
   "metadata": {
    "execution": {
     "iopub.execute_input": "2021-11-27T09:51:20.532899Z",
     "iopub.status.busy": "2021-11-27T09:51:20.531989Z",
     "iopub.status.idle": "2021-11-27T09:51:35.145673Z",
     "shell.execute_reply": "2021-11-27T09:51:35.145158Z",
     "shell.execute_reply.started": "2021-11-27T09:47:12.829419Z"
    },
    "papermill": {
     "duration": 14.636077,
     "end_time": "2021-11-27T09:51:35.145815",
     "exception": false,
     "start_time": "2021-11-27T09:51:20.509738",
     "status": "completed"
    },
    "tags": []
   },
   "outputs": [
    {
     "name": "stdout",
     "output_type": "stream",
     "text": [
      "Loading fold 0 weights and perform inference\n",
      "Loading fold 1 weights and perform inference\n",
      "Loading fold 2 weights and perform inference\n",
      "Loading fold 3 weights and perform inference\n",
      "Loading fold 4 weights and perform inference\n"
     ]
    }
   ],
   "source": [
    "\n",
    "# predict\n",
    "# create empty array\n",
    "pred_all = np.zeros(len(test_df))\n",
    "\n",
    "# loop over folds \n",
    "for i in range(5):\n",
    "    print(f\"Loading fold {i} weights and perform inference\") # \n",
    "    model = pawNetBasic.load_from_checkpoint(checkpoint_path=f\"../input/vit-small/pawnet_lightning_vit_tiny_patch16_224/default/version_{i}/checkpoints/best_loss.ckpt\",criterion=criterion)\n",
    "    model = model.to(\"cuda\")\n",
    "    _,pred = inference_test(model,test_loader,criterion=None,device=\"cuda\")\n",
    "    pred_all += pred.numpy()"
   ]
  },
  {
   "cell_type": "code",
   "execution_count": null,
   "id": "3df50e1a",
   "metadata": {
    "papermill": {
     "duration": 0.016624,
     "end_time": "2021-11-27T09:51:35.179750",
     "exception": false,
     "start_time": "2021-11-27T09:51:35.163126",
     "status": "completed"
    },
    "tags": []
   },
   "outputs": [],
   "source": []
  },
  {
   "cell_type": "code",
   "execution_count": 12,
   "id": "c33297e0",
   "metadata": {
    "execution": {
     "iopub.execute_input": "2021-11-27T09:51:35.227583Z",
     "iopub.status.busy": "2021-11-27T09:51:35.226872Z",
     "iopub.status.idle": "2021-11-27T09:51:35.230059Z",
     "shell.execute_reply": "2021-11-27T09:51:35.230484Z",
     "shell.execute_reply.started": "2021-11-25T15:17:10.010765Z"
    },
    "papermill": {
     "duration": 0.033671,
     "end_time": "2021-11-27T09:51:35.230608",
     "exception": false,
     "start_time": "2021-11-27T09:51:35.196937",
     "status": "completed"
    },
    "tags": []
   },
   "outputs": [
    {
     "name": "stderr",
     "output_type": "stream",
     "text": [
      "/opt/conda/lib/python3.7/site-packages/ipykernel_launcher.py:3: SettingWithCopyWarning: \n",
      "A value is trying to be set on a copy of a slice from a DataFrame.\n",
      "Try using .loc[row_indexer,col_indexer] = value instead\n",
      "\n",
      "See the caveats in the documentation: https://pandas.pydata.org/pandas-docs/stable/user_guide/indexing.html#returning-a-view-versus-a-copy\n",
      "  This is separate from the ipykernel package so we can avoid doing imports until\n"
     ]
    }
   ],
   "source": [
    "# create submission\n",
    "sub = test_df[[\"Id\"]]\n",
    "sub[\"Pawpularity\"] = pred_all / 5"
   ]
  },
  {
   "cell_type": "code",
   "execution_count": 13,
   "id": "eec638b3",
   "metadata": {
    "execution": {
     "iopub.execute_input": "2021-11-27T09:51:35.271803Z",
     "iopub.status.busy": "2021-11-27T09:51:35.270909Z",
     "iopub.status.idle": "2021-11-27T09:51:35.282152Z",
     "shell.execute_reply": "2021-11-27T09:51:35.282620Z",
     "shell.execute_reply.started": "2021-11-25T15:17:11.92295Z"
    },
    "papermill": {
     "duration": 0.034875,
     "end_time": "2021-11-27T09:51:35.282740",
     "exception": false,
     "start_time": "2021-11-27T09:51:35.247865",
     "status": "completed"
    },
    "tags": []
   },
   "outputs": [
    {
     "data": {
      "text/html": [
       "<div>\n",
       "<style scoped>\n",
       "    .dataframe tbody tr th:only-of-type {\n",
       "        vertical-align: middle;\n",
       "    }\n",
       "\n",
       "    .dataframe tbody tr th {\n",
       "        vertical-align: top;\n",
       "    }\n",
       "\n",
       "    .dataframe thead th {\n",
       "        text-align: right;\n",
       "    }\n",
       "</style>\n",
       "<table border=\"1\" class=\"dataframe\">\n",
       "  <thead>\n",
       "    <tr style=\"text-align: right;\">\n",
       "      <th></th>\n",
       "      <th>Id</th>\n",
       "      <th>Pawpularity</th>\n",
       "    </tr>\n",
       "  </thead>\n",
       "  <tbody>\n",
       "    <tr>\n",
       "      <th>0</th>\n",
       "      <td>4128bae22183829d2b5fea10effdb0c3</td>\n",
       "      <td>43.270519</td>\n",
       "    </tr>\n",
       "    <tr>\n",
       "      <th>1</th>\n",
       "      <td>43a2262d7738e3d420d453815151079e</td>\n",
       "      <td>44.627859</td>\n",
       "    </tr>\n",
       "    <tr>\n",
       "      <th>2</th>\n",
       "      <td>4e429cead1848a298432a0acad014c9d</td>\n",
       "      <td>44.033482</td>\n",
       "    </tr>\n",
       "    <tr>\n",
       "      <th>3</th>\n",
       "      <td>80bc3ccafcc51b66303c2c263aa38486</td>\n",
       "      <td>46.359930</td>\n",
       "    </tr>\n",
       "    <tr>\n",
       "      <th>4</th>\n",
       "      <td>8f49844c382931444e68dffbe20228f4</td>\n",
       "      <td>47.919749</td>\n",
       "    </tr>\n",
       "  </tbody>\n",
       "</table>\n",
       "</div>"
      ],
      "text/plain": [
       "                                 Id  Pawpularity\n",
       "0  4128bae22183829d2b5fea10effdb0c3    43.270519\n",
       "1  43a2262d7738e3d420d453815151079e    44.627859\n",
       "2  4e429cead1848a298432a0acad014c9d    44.033482\n",
       "3  80bc3ccafcc51b66303c2c263aa38486    46.359930\n",
       "4  8f49844c382931444e68dffbe20228f4    47.919749"
      ]
     },
     "execution_count": 13,
     "metadata": {},
     "output_type": "execute_result"
    }
   ],
   "source": [
    "sub.head()"
   ]
  },
  {
   "cell_type": "code",
   "execution_count": 14,
   "id": "58c583dc",
   "metadata": {
    "execution": {
     "iopub.execute_input": "2021-11-27T09:51:35.322082Z",
     "iopub.status.busy": "2021-11-27T09:51:35.321256Z",
     "iopub.status.idle": "2021-11-27T09:51:35.326307Z",
     "shell.execute_reply": "2021-11-27T09:51:35.325823Z",
     "shell.execute_reply.started": "2021-11-25T15:17:13.151748Z"
    },
    "papermill": {
     "duration": 0.026235,
     "end_time": "2021-11-27T09:51:35.326443",
     "exception": false,
     "start_time": "2021-11-27T09:51:35.300208",
     "status": "completed"
    },
    "tags": []
   },
   "outputs": [],
   "source": [
    "sub.to_csv(\"submission.csv\", index=False)"
   ]
  },
  {
   "cell_type": "code",
   "execution_count": null,
   "id": "75350690",
   "metadata": {
    "papermill": {
     "duration": 0.016809,
     "end_time": "2021-11-27T09:51:35.360612",
     "exception": false,
     "start_time": "2021-11-27T09:51:35.343803",
     "status": "completed"
    },
    "tags": []
   },
   "outputs": [],
   "source": []
  }
 ],
 "metadata": {
  "kernelspec": {
   "display_name": "Python 3",
   "language": "python",
   "name": "python3"
  },
  "language_info": {
   "codemirror_mode": {
    "name": "ipython",
    "version": 3
   },
   "file_extension": ".py",
   "mimetype": "text/x-python",
   "name": "python",
   "nbconvert_exporter": "python",
   "pygments_lexer": "ipython3",
   "version": "3.7.10"
  },
  "papermill": {
   "default_parameters": {},
   "duration": 84.322117,
   "end_time": "2021-11-27T09:51:38.198292",
   "environment_variables": {},
   "exception": null,
   "input_path": "__notebook__.ipynb",
   "output_path": "__notebook__.ipynb",
   "parameters": {},
   "start_time": "2021-11-27T09:50:13.876175",
   "version": "2.3.3"
  }
 },
 "nbformat": 4,
 "nbformat_minor": 5
}
