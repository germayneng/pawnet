{
 "cells": [
  {
   "cell_type": "markdown",
   "id": "3131524a",
   "metadata": {
    "_cell_guid": "b1076dfc-b9ad-4769-8c92-a6c4dae69d19",
    "_uuid": "8f2839f25d086af736a60e9eeb907d3b93b6e0e5",
    "papermill": {
     "duration": 0.018934,
     "end_time": "2021-11-25T16:25:15.298864",
     "exception": false,
     "start_time": "2021-11-25T16:25:15.279930",
     "status": "completed"
    },
    "tags": []
   },
   "source": [
    "# Inference\n",
    "\n",
    "Because this competition has a hidden test set - we need to set up inference note-book in order to submit our models. "
   ]
  },
  {
   "cell_type": "markdown",
   "id": "f10ee7fe",
   "metadata": {
    "papermill": {
     "duration": 0.015368,
     "end_time": "2021-11-25T16:25:15.332013",
     "exception": false,
     "start_time": "2021-11-25T16:25:15.316645",
     "status": "completed"
    },
    "tags": []
   },
   "source": [
    "# Load libraries "
   ]
  },
  {
   "cell_type": "code",
   "execution_count": 1,
   "id": "2b9cf006",
   "metadata": {
    "execution": {
     "iopub.execute_input": "2021-11-25T16:25:15.369827Z",
     "iopub.status.busy": "2021-11-25T16:25:15.369092Z",
     "iopub.status.idle": "2021-11-25T16:25:15.370838Z",
     "shell.execute_reply": "2021-11-25T16:25:15.370312Z",
     "shell.execute_reply.started": "2021-11-25T15:34:13.825184Z"
    },
    "papermill": {
     "duration": 0.023136,
     "end_time": "2021-11-25T16:25:15.370958",
     "exception": false,
     "start_time": "2021-11-25T16:25:15.347822",
     "status": "completed"
    },
    "tags": []
   },
   "outputs": [],
   "source": [
    "# %%bash\n",
    "# pip install attrdict\n",
    "# pip install timm\n",
    "# pip install pytorch-lightning==1.4.0"
   ]
  },
  {
   "cell_type": "code",
   "execution_count": 2,
   "id": "f1908ac8",
   "metadata": {
    "execution": {
     "iopub.execute_input": "2021-11-25T16:25:15.410138Z",
     "iopub.status.busy": "2021-11-25T16:25:15.409552Z",
     "iopub.status.idle": "2021-11-25T16:25:43.731490Z",
     "shell.execute_reply": "2021-11-25T16:25:43.730880Z",
     "shell.execute_reply.started": "2021-11-25T15:52:43.582186Z"
    },
    "papermill": {
     "duration": 28.345321,
     "end_time": "2021-11-25T16:25:43.731644",
     "exception": false,
     "start_time": "2021-11-25T16:25:15.386323",
     "status": "completed"
    },
    "tags": []
   },
   "outputs": [
    {
     "name": "stdout",
     "output_type": "stream",
     "text": [
      "Processing /kaggle/input/attrdictw/attrdict-2.0.1-py2.py3-none-any.whl\r\n",
      "Requirement already satisfied: six in /opt/conda/lib/python3.7/site-packages (from attrdict==2.0.1) (1.16.0)\r\n",
      "Installing collected packages: attrdict\r\n",
      "Successfully installed attrdict-2.0.1\r\n",
      "\u001b[33mWARNING: Running pip as the 'root' user can result in broken permissions and conflicting behaviour with the system package manager. It is recommended to use a virtual environment instead: https://pip.pypa.io/warnings/venv\u001b[0m\r\n"
     ]
    }
   ],
   "source": [
    "! pip install ../input/attrdictw/attrdict-2.0.1-py2.py3-none-any.whl"
   ]
  },
  {
   "cell_type": "code",
   "execution_count": null,
   "id": "c8a2809f",
   "metadata": {
    "execution": {
     "iopub.execute_input": "2021-11-25T16:19:32.162283Z",
     "iopub.status.busy": "2021-11-25T16:19:32.161292Z",
     "iopub.status.idle": "2021-11-25T16:19:35.655001Z",
     "shell.execute_reply": "2021-11-25T16:19:35.654045Z",
     "shell.execute_reply.started": "2021-11-25T16:19:32.162228Z"
    },
    "papermill": {
     "duration": 0.016195,
     "end_time": "2021-11-25T16:25:43.765490",
     "exception": false,
     "start_time": "2021-11-25T16:25:43.749295",
     "status": "completed"
    },
    "tags": []
   },
   "outputs": [],
   "source": []
  },
  {
   "cell_type": "code",
   "execution_count": 3,
   "id": "6f82632b",
   "metadata": {
    "execution": {
     "iopub.execute_input": "2021-11-25T16:25:43.806577Z",
     "iopub.status.busy": "2021-11-25T16:25:43.800835Z",
     "iopub.status.idle": "2021-11-25T16:25:44.457481Z",
     "shell.execute_reply": "2021-11-25T16:25:44.456888Z",
     "shell.execute_reply.started": "2021-11-25T16:11:20.251018Z"
    },
    "papermill": {
     "duration": 0.675763,
     "end_time": "2021-11-25T16:25:44.457606",
     "exception": false,
     "start_time": "2021-11-25T16:25:43.781843",
     "status": "completed"
    },
    "tags": []
   },
   "outputs": [
    {
     "name": "stdout",
     "output_type": "stream",
     "text": [
      "ls: cannot access '/root/.cache/torch/hub/checkpoints/': No such file or directory\r\n"
     ]
    }
   ],
   "source": [
    "! ls /root/.cache/torch/hub/checkpoints/"
   ]
  },
  {
   "cell_type": "code",
   "execution_count": 4,
   "id": "4b725f1e",
   "metadata": {
    "execution": {
     "iopub.execute_input": "2021-11-25T16:25:44.496483Z",
     "iopub.status.busy": "2021-11-25T16:25:44.495767Z",
     "iopub.status.idle": "2021-11-25T16:25:45.246056Z",
     "shell.execute_reply": "2021-11-25T16:25:45.245222Z",
     "shell.execute_reply.started": "2021-11-25T16:06:45.730995Z"
    },
    "papermill": {
     "duration": 0.771272,
     "end_time": "2021-11-25T16:25:45.246189",
     "exception": false,
     "start_time": "2021-11-25T16:25:44.474917",
     "status": "completed"
    },
    "tags": []
   },
   "outputs": [
    {
     "name": "stdout",
     "output_type": "stream",
     "text": [
      "resnet34-43635321.pth  resnet34d_ra2-f8dcfcaf.pth\r\n"
     ]
    }
   ],
   "source": [
    "! ls ../input/resnet34/"
   ]
  },
  {
   "cell_type": "code",
   "execution_count": 5,
   "id": "ce78bdbe",
   "metadata": {
    "execution": {
     "iopub.execute_input": "2021-11-25T16:25:45.308921Z",
     "iopub.status.busy": "2021-11-25T16:25:45.308012Z",
     "iopub.status.idle": "2021-11-25T16:25:45.310331Z",
     "shell.execute_reply": "2021-11-25T16:25:45.309682Z",
     "shell.execute_reply.started": "2021-11-25T15:52:54.249835Z"
    },
    "papermill": {
     "duration": 0.036464,
     "end_time": "2021-11-25T16:25:45.310477",
     "exception": false,
     "start_time": "2021-11-25T16:25:45.274013",
     "status": "completed"
    },
    "tags": []
   },
   "outputs": [],
   "source": [
    "import sys\n",
    "sys.path.append(\"../input/timmmaster/\")"
   ]
  },
  {
   "cell_type": "code",
   "execution_count": 6,
   "id": "9c40d9e7",
   "metadata": {
    "execution": {
     "iopub.execute_input": "2021-11-25T16:25:45.374509Z",
     "iopub.status.busy": "2021-11-25T16:25:45.373729Z",
     "iopub.status.idle": "2021-11-25T16:25:53.715158Z",
     "shell.execute_reply": "2021-11-25T16:25:53.714590Z",
     "shell.execute_reply.started": "2021-11-25T15:53:00.120464Z"
    },
    "papermill": {
     "duration": 8.377876,
     "end_time": "2021-11-25T16:25:53.715293",
     "exception": false,
     "start_time": "2021-11-25T16:25:45.337417",
     "status": "completed"
    },
    "tags": []
   },
   "outputs": [],
   "source": [
    "import numpy as np # linear algebra\n",
    "import pandas as pd # data processing, CSV file I/O (e.g. pd.read_csv)\n",
    "import random\n",
    "import matplotlib.pyplot as plt\n",
    "import os\n",
    "import tqdm\n",
    "\n",
    "import seaborn as sns\n",
    "from torchvision.io import read_image\n",
    "import torchvision.transforms as T\n",
    "from torchvision.utils import make_grid\n",
    "from attrdict import AttrDict\n",
    "import torch\n",
    "import yaml\n",
    "from sklearn.model_selection import StratifiedKFold\n",
    "import copy\n",
    "import pickle\n",
    "# from tqdm import tqdm_notebook\n",
    "\n",
    "# additional lightning \n",
    "\n",
    "import pytorch_lightning as pl\n",
    "from pytorch_lightning.utilities.seed import seed_everything\n",
    "from pytorch_lightning import callbacks\n",
    "from pytorch_lightning.callbacks.progress import ProgressBarBase\n",
    "from pytorch_lightning.callbacks.early_stopping import EarlyStopping\n",
    "from pytorch_lightning.loggers import TensorBoardLogger\n",
    "from pytorch_lightning import LightningDataModule, LightningModule\n",
    "\n",
    "\n",
    "# pytorch\n",
    "import torch\n",
    "from torch import nn\n",
    "import torch.nn.functional as F\n",
    "from timm import create_model"
   ]
  },
  {
   "cell_type": "code",
   "execution_count": 7,
   "id": "471282a8",
   "metadata": {
    "execution": {
     "iopub.execute_input": "2021-11-25T16:25:53.788209Z",
     "iopub.status.busy": "2021-11-25T16:25:53.774395Z",
     "iopub.status.idle": "2021-11-25T16:25:53.790787Z",
     "shell.execute_reply": "2021-11-25T16:25:53.790266Z",
     "shell.execute_reply.started": "2021-11-25T15:54:04.463813Z"
    },
    "papermill": {
     "duration": 0.054551,
     "end_time": "2021-11-25T16:25:53.790974",
     "exception": false,
     "start_time": "2021-11-25T16:25:53.736423",
     "status": "completed"
    },
    "tags": []
   },
   "outputs": [],
   "source": [
    "class pawnetDataset(torch.utils.data.Dataset):\n",
    "    \"\"\"\n",
    "    Dataset\n",
    "    Based on template https://pytorch.org/tutorials/beginner/basics/data_tutorial.html\n",
    "    \"\"\"\n",
    "    def __init__(self,annotation_df, img_dir,transform=None,target_transform=None,test=False,custom_len=None):\n",
    "        self.annotation_df = annotation_df\n",
    "        self.img_dir = img_dir\n",
    "        self.transform = transform\n",
    "        self.target_transform = target_transform\n",
    "        self.test=test # if dataset contains labels\n",
    "        self.custom_len=custom_len # if we want to define our own epoch\n",
    "        \n",
    "        \n",
    "    def __len__(self):\n",
    "        \"\"\"Define 1 epoch\"\"\"\n",
    "        if self.custom_len is None:\n",
    "            return len(self.annotation_df)\n",
    "        else:\n",
    "            return self.custom_len\n",
    "    \n",
    "    def __getitem__(self,idx):\n",
    "        \"\"\"called batch num of times\"\"\"\n",
    "        img_path = os.path.join(self.img_dir, self.annotation_df.iloc[idx, 0]) # ID is column index 0\n",
    "        image = read_image(img_path+\".jpg\")\n",
    "        if self.test:\n",
    "            label = 0\n",
    "        else:\n",
    "            label = self.annotation_df.iloc[idx, 13] # Pawpularity is column index 13\n",
    "            \n",
    "        if self.transform:\n",
    "            image = self.transform(image)\n",
    "        if self.target_transform:\n",
    "            label = self.target_transform(label)\n",
    "        return image, label\n",
    "    \n",
    "class pawNetBasic(pl.LightningModule):\n",
    "    \"\"\"\n",
    "    First cut basic pawNet model\n",
    "    we will improve on this - this serves as skeleton code\n",
    "    for other models\n",
    "    \n",
    "    timm contains collection of several pretrained models\n",
    "    \n",
    "    This is a lightning variant *\n",
    "    \n",
    "    \n",
    "    lightning model requires the following methods:\n",
    "    1. forward \n",
    "    2. training_step (logic inside the iteration loop) , validation_step, test_step (not stable on tpu)\n",
    "    3. training_epoch_end, validation_epoch_end\n",
    "    4. configure_optimizers \n",
    "    \n",
    "    other configurable list here https://pytorch-lightning.readthedocs.io/en/latest/common/lightning_module.html\n",
    "    \n",
    "    \"\"\"\n",
    "    \n",
    "    def __init__(self,criterion, dropout=0.2):\n",
    "        super().__init__()\n",
    "        self.dropout = 0.2\n",
    "        self._criterion = criterion\n",
    "        self.train_loss = []\n",
    "        self.train_rmse = []\n",
    "        self.valid_rmse = []\n",
    "        \n",
    "        # initialize layers\n",
    "        # https://fastai.github.io/timmdocs/tutorial_feature_extractor\n",
    "        # remove FCL by setting num_classes=0\n",
    "        self.pretrained = create_model(\n",
    "            base_config_manager.load_config().model.pretrained, \n",
    "            pretrained=True, \n",
    "            num_classes=0, \n",
    "            in_chans=3\n",
    "        )\n",
    "#         self.global_avg_pooling = torch.nn.AdaptiveAvgPool2d(1) # timm pretrain comes with pooling\n",
    "        self.linear_1 = torch.nn.Linear(in_features=512,out_features=1000)\n",
    "        self.prelu = torch.nn.PReLU()\n",
    "        self.linear_2 = torch.nn.Linear(in_features=1000,out_features=1)\n",
    "        \n",
    "    def forward(self,x):\n",
    "        out = self.pretrained(x)\n",
    "#         out = out.view(out.size(0), -1) # reshape for linear. timm already returns with CHW flatten\n",
    "        out = torch.nn.Dropout(self.dropout)(out)\n",
    "        out = self.linear_1(out)\n",
    "        out = self.prelu(out)\n",
    "        out = self.linear_2(out)\n",
    "        \n",
    "        \n",
    "        \n",
    "        return out\n",
    "    \n",
    "    \n",
    "    def training_step(self, batch, batch_idx):\n",
    "        \"\"\"\n",
    "        logic instead batch loop\n",
    "        \"\"\"\n",
    "        loss, pred, labels = self.__share_step(batch, 'train')\n",
    "        \n",
    "        return {'loss': loss, 'pred': pred, 'labels': labels}\n",
    "        \n",
    "    def validation_step(self, batch, batch_idx):\n",
    "        \"\"\"\n",
    "        logic instead batch loop for validation\n",
    "        \"\"\"\n",
    "        \n",
    "        loss, pred, labels = self.__share_step(batch, 'val')\n",
    "        return {'loss': loss, 'pred': pred, 'labels': labels}\n",
    "    \n",
    "    def __share_step(self, batch, mode):\n",
    "        images, labels = batch\n",
    "        labels = labels.float() / 100.0\n",
    "        \n",
    "        logits = self.forward(images).squeeze(1)\n",
    "        loss = self._criterion(logits, labels)\n",
    "        \n",
    "        # return logloss for training mode, scaled for others\n",
    "        pred = logits.sigmoid().detach().cpu() * 100.\n",
    "        labels = labels.detach().cpu() * 100.\n",
    "        return loss, pred, labels\n",
    "        \n",
    "    def training_epoch_end(self, outputs):\n",
    "        \"\"\"\n",
    "        called every end of epoch, contains logic\n",
    "        at end of epoch\n",
    "        \"\"\"\n",
    "        self.__share_epoch_end(outputs, mode = 'train')\n",
    "\n",
    "    def validation_epoch_end(self, outputs):\n",
    "        self.__share_epoch_end(outputs, mode = 'val')    \n",
    "        \n",
    "    def __share_epoch_end(self, outputs, mode):\n",
    "        \"\"\"\n",
    "        output is a list of output defined in\n",
    "        `training_step` as well as `validation_step`.\n",
    "        Need to iterate through each iteration's output.\n",
    "        the output was a dict\n",
    "        \"\"\"\n",
    "        preds = []\n",
    "        labels = []\n",
    "        losses = []\n",
    "        for out in outputs:\n",
    "            pred, label, loss = out['pred'], out['labels'], out[\"loss\"]\n",
    "            preds.append(pred)\n",
    "            labels.append(label)\n",
    "            losses.append(loss.view(-1,1))\n",
    "        preds = torch.cat(preds)\n",
    "        labels = torch.cat(labels)\n",
    "        losses = torch.cat(losses)\n",
    "        if mode == \"train\":\n",
    "            loglogss_metrics = losses.mean() # average logloss across iterations\n",
    "            self.log(f'{mode}_logloss', loglogss_metrics, prog_bar=True)\n",
    "        else:\n",
    "            print(f\"{mode}: skip logging for logloss\")\n",
    "            \n",
    "        # RMSE\n",
    "        metrics = torch.sqrt(((labels - preds) ** 2).mean())\n",
    "        # https://pytorch-lightning.readthedocs.io/en/stable/extensions/logging.html\n",
    "        # automatic accumulation at end of epoch for training, true always for test,validation loops\n",
    "        self.log(f'{mode}_RMSE_loss', metrics, prog_bar=True)\n",
    "        \n",
    "        \n",
    "    def configure_optimizers(self):\n",
    "        \"\"\"\n",
    "        https://pytorch-lightning.readthedocs.io/en/latest/api/pytorch_lightning.core.lightning.html#pytorch_lightning.core.lightning.LightningModule.configure_optimizers\n",
    "        \n",
    "        Any of these 6 options.\n",
    "\n",
    "        Single optimizer.\n",
    "\n",
    "        List or Tuple of optimizers.\n",
    "\n",
    "        Two lists - The first list has multiple optimizers, and the second has multiple LR schedulers (or multiple lr_scheduler_config).\n",
    "\n",
    "        Dictionary, with an \"optimizer\" key, and (optionally) a \"lr_scheduler\" key whose value is a single LR scheduler or lr_scheduler_config.\n",
    "\n",
    "        Tuple of dictionaries as described above, with an optional \"frequency\" key.\n",
    "\n",
    "        None - Fit will run without any optimizer.\n",
    "        \"\"\"\n",
    "        #opt = torch.optim.Adam(self.parameters())\n",
    "        # TODO: add learning rate to config\n",
    "        opt = torch.optim.AdamW(self.parameters(),lr=1e-5)\n",
    "        scheduler = torch.optim.lr_scheduler.CosineAnnealingWarmRestarts(opt,T_0=20,eta_min=1e-4)\n",
    "  \n",
    "        return [opt]\n",
    "\n",
    "\n",
    "\n",
    "def inference_test(model,valid_loader,criterion,device= \"cpu\"):\n",
    "    \"\"\"\n",
    "    performs inference for submission. Note that because\n",
    "    this is test, there is no actual labels\n",
    "    \"\"\"\n",
    "    model.eval()\n",
    "    y_valid = []\n",
    "    y_pred_valid = []\n",
    "    for i, (x,y) in enumerate(valid_loader):\n",
    "        with torch.no_grad():\n",
    "            pred = model(x.to(device))\n",
    "            pred = torch.sigmoid(pred) * 100.\n",
    "            y_pred_valid.append(pred.squeeze().detach().cpu())\n",
    "            y_valid.append(y.detach().cpu())\n",
    "    # convert from list to tensor\n",
    "    y_valid = torch.cat(y_valid,0)\n",
    "    y_pred_valid = torch.cat(y_pred_valid,0)\n",
    "    if criterion is None:\n",
    "        valid_loss = None\n",
    "    else:\n",
    "        \n",
    "        valid_loss = criterion(y_pred_valid,y_valid).item()\n",
    "    \n",
    "    return valid_loss,y_pred_valid"
   ]
  },
  {
   "cell_type": "code",
   "execution_count": 8,
   "id": "cd74934e",
   "metadata": {
    "execution": {
     "iopub.execute_input": "2021-11-25T16:25:53.834950Z",
     "iopub.status.busy": "2021-11-25T16:25:53.834110Z",
     "iopub.status.idle": "2021-11-25T16:25:53.836353Z",
     "shell.execute_reply": "2021-11-25T16:25:53.836935Z",
     "shell.execute_reply.started": "2021-11-25T15:53:59.299675Z"
    },
    "papermill": {
     "duration": 0.027174,
     "end_time": "2021-11-25T16:25:53.837081",
     "exception": false,
     "start_time": "2021-11-25T16:25:53.809907",
     "status": "completed"
    },
    "tags": []
   },
   "outputs": [],
   "source": [
    "\"\"\"\n",
    "To add to utility.py\n",
    "\"\"\"\n",
    "\n",
    "# def seed_everything(seed=1234):\n",
    "#     \"\"\"\n",
    "#     Utility function to seed everything\n",
    "#     source: https://www.kaggle.com/bminixhofer/deterministic-neural-networks-using-pytorch\n",
    "#     \"\"\"\n",
    "#     random.seed(seed)\n",
    "#     os.environ['PYTHONHASHSEED'] = str(seed)\n",
    "#     np.random.seed(seed)\n",
    "#     torch.manual_seed(seed)\n",
    "#     torch.cuda.manual_seed(seed)\n",
    "#     torch.backends.cudnn.deterministic = True\n",
    "\n",
    "    \n",
    "\n",
    "def read_yaml(filename):\n",
    "    \"\"\"\n",
    "    Read yaml configuation and returns the dict\n",
    "\n",
    "    Parameters\n",
    "    ----------\n",
    "    filename: string\n",
    "        Path including yaml file name\n",
    "    \"\"\"\n",
    "\n",
    "    with open(filename) as f:\n",
    "        config = yaml.safe_load(f)\n",
    "\n",
    "    return config\n",
    "\n",
    "\n",
    "    \n",
    "# configs\n",
    "\n",
    "# config is different in kaggle\n",
    "\n",
    "\n",
    "class BaseConfigLoader:\n",
    "    \n",
    "    def __init__(self,config_path):\n",
    "        self.config = read_yaml(config_path)\n",
    "            \n",
    "    def load_config(self):\n",
    "        return AttrDict(self.config)"
   ]
  },
  {
   "cell_type": "markdown",
   "id": "f2e29b08",
   "metadata": {
    "papermill": {
     "duration": 0.018035,
     "end_time": "2021-11-25T16:25:53.873812",
     "exception": false,
     "start_time": "2021-11-25T16:25:53.855777",
     "status": "completed"
    },
    "tags": []
   },
   "source": [
    "# Load test data "
   ]
  },
  {
   "cell_type": "code",
   "execution_count": 9,
   "id": "b8b8b8ff",
   "metadata": {
    "execution": {
     "iopub.execute_input": "2021-11-25T16:25:53.914778Z",
     "iopub.status.busy": "2021-11-25T16:25:53.914148Z",
     "iopub.status.idle": "2021-11-25T16:25:53.942935Z",
     "shell.execute_reply": "2021-11-25T16:25:53.942390Z",
     "shell.execute_reply.started": "2021-11-25T15:53:59.780453Z"
    },
    "papermill": {
     "duration": 0.050876,
     "end_time": "2021-11-25T16:25:53.943051",
     "exception": false,
     "start_time": "2021-11-25T16:25:53.892175",
     "status": "completed"
    },
    "tags": []
   },
   "outputs": [],
   "source": [
    "# this is specific to kaggle\n",
    "# if running in GCS, replace with our GCP bucket \n",
    "# get cache location of the dataset \n",
    "# GCS_DS_PATH = KaggleDatasets().get_gcs_path()\n",
    "base_config_manager = BaseConfigLoader(\"../input/config/config.yaml\")\n",
    "file_path = base_config_manager.load_config().filepath.kaggle #\"/kaggle/input/petfinder-pawpularity-score/\"\n",
    "test_df = pd.read_csv(os.path.join(file_path,\"test.csv\"))"
   ]
  },
  {
   "cell_type": "code",
   "execution_count": 10,
   "id": "c0b6dc7b",
   "metadata": {
    "execution": {
     "iopub.execute_input": "2021-11-25T16:25:53.988163Z",
     "iopub.status.busy": "2021-11-25T16:25:53.987412Z",
     "iopub.status.idle": "2021-11-25T16:25:53.991240Z",
     "shell.execute_reply": "2021-11-25T16:25:53.990731Z",
     "shell.execute_reply.started": "2021-11-25T15:54:13.837094Z"
    },
    "papermill": {
     "duration": 0.028977,
     "end_time": "2021-11-25T16:25:53.991450",
     "exception": false,
     "start_time": "2021-11-25T16:25:53.962473",
     "status": "completed"
    },
    "tags": []
   },
   "outputs": [],
   "source": [
    "test_transformation = T.Compose([\n",
    "                T.Resize([224,224]),# imgnet needs at least 224\n",
    "                T.ConvertImageDtype(torch.float),\n",
    "                T.Normalize(mean=[0.485, 0.456, 0.406], std=[0.229, 0.224, 0.225] ), # imgnet requirements \n",
    "                ]\n",
    "            )\n",
    "\n",
    "\n",
    "test_data = pawnetDataset(annotation_df=test_df,img_dir =os.path.join(file_path,\"test\"), transform = test_transformation,test=True)\n",
    "test_loader = torch.utils.data.DataLoader(test_data,batch_size=64,shuffle=False,num_workers=2)"
   ]
  },
  {
   "cell_type": "markdown",
   "id": "fd6ab5d5",
   "metadata": {
    "papermill": {
     "duration": 0.01912,
     "end_time": "2021-11-25T16:25:54.029390",
     "exception": false,
     "start_time": "2021-11-25T16:25:54.010270",
     "status": "completed"
    },
    "tags": []
   },
   "source": [
    "# Load weights and inference\n",
    "\n",
    "https://pytorch-lightning.readthedocs.io/en/latest/common/weights_loading.html"
   ]
  },
  {
   "cell_type": "code",
   "execution_count": 11,
   "id": "a1257351",
   "metadata": {
    "execution": {
     "iopub.execute_input": "2021-11-25T16:25:54.072673Z",
     "iopub.status.busy": "2021-11-25T16:25:54.071083Z",
     "iopub.status.idle": "2021-11-25T16:25:54.073396Z",
     "shell.execute_reply": "2021-11-25T16:25:54.073868Z",
     "shell.execute_reply.started": "2021-11-25T15:54:15.778606Z"
    },
    "papermill": {
     "duration": 0.025812,
     "end_time": "2021-11-25T16:25:54.074008",
     "exception": false,
     "start_time": "2021-11-25T16:25:54.048196",
     "status": "completed"
    },
    "tags": []
   },
   "outputs": [],
   "source": [
    "# create model and load checkpoint \n",
    "\n",
    "# load config\n",
    "# this object manages all the configurations\n",
    "\n",
    "# base_config_manager = BaseConfigLoader(\"../input/config/config.yaml\")\n",
    "criterion = torch.nn.BCEWithLogitsLoss()"
   ]
  },
  {
   "cell_type": "code",
   "execution_count": 12,
   "id": "82a7d217",
   "metadata": {
    "execution": {
     "iopub.execute_input": "2021-11-25T16:25:54.116334Z",
     "iopub.status.busy": "2021-11-25T16:25:54.115707Z",
     "iopub.status.idle": "2021-11-25T16:26:16.920453Z",
     "shell.execute_reply": "2021-11-25T16:26:16.921043Z"
    },
    "papermill": {
     "duration": 22.828236,
     "end_time": "2021-11-25T16:26:16.921206",
     "exception": false,
     "start_time": "2021-11-25T16:25:54.092970",
     "status": "completed"
    },
    "tags": []
   },
   "outputs": [
    {
     "name": "stderr",
     "output_type": "stream",
     "text": [
      "Downloading: \"https://github.com/rwightman/pytorch-image-models/releases/download/v0.1-weights/resnet34-43635321.pth\" to /root/.cache/torch/hub/checkpoints/resnet34-43635321.pth\n"
     ]
    },
    {
     "name": "stdout",
     "output_type": "stream",
     "text": [
      "no internet... cannot download weights... \n"
     ]
    }
   ],
   "source": [
    "# load and weights - will fail hre because no internet\n",
    "try:\n",
    "    model = pawNetBasic.load_from_checkpoint(checkpoint_path=f\"../input/02-pytorch-lightning-variant/pawnet_lightning_resnet/default/version_0/checkpoints/best_loss.ckpt\",criterion=criterion)\n",
    "except:\n",
    "    print(\"no internet... cannot download weights... \")\n",
    "    "
   ]
  },
  {
   "cell_type": "code",
   "execution_count": 13,
   "id": "d9791906",
   "metadata": {
    "execution": {
     "iopub.execute_input": "2021-11-25T16:26:16.970751Z",
     "iopub.status.busy": "2021-11-25T16:26:16.963461Z",
     "iopub.status.idle": "2021-11-25T16:26:18.421517Z",
     "shell.execute_reply": "2021-11-25T16:26:18.419570Z"
    },
    "papermill": {
     "duration": 1.482823,
     "end_time": "2021-11-25T16:26:18.421724",
     "exception": false,
     "start_time": "2021-11-25T16:26:16.938901",
     "status": "completed"
    },
    "tags": []
   },
   "outputs": [],
   "source": [
    "# copy weights to torch cache\n",
    "\n",
    "! cp ../input/resnet34/resnet34-43635321.pth /root/.cache/torch/hub/checkpoints/"
   ]
  },
  {
   "cell_type": "code",
   "execution_count": 14,
   "id": "36a808e3",
   "metadata": {
    "execution": {
     "iopub.execute_input": "2021-11-25T16:26:18.487068Z",
     "iopub.status.busy": "2021-11-25T16:26:18.486271Z",
     "iopub.status.idle": "2021-11-25T16:26:43.516960Z",
     "shell.execute_reply": "2021-11-25T16:26:43.516433Z",
     "shell.execute_reply.started": "2021-11-25T15:58:44.950734Z"
    },
    "papermill": {
     "duration": 25.06661,
     "end_time": "2021-11-25T16:26:43.517100",
     "exception": false,
     "start_time": "2021-11-25T16:26:18.450490",
     "status": "completed"
    },
    "tags": []
   },
   "outputs": [
    {
     "name": "stdout",
     "output_type": "stream",
     "text": [
      "Loading fold 0 weights and perform inference\n",
      "Loading fold 1 weights and perform inference\n",
      "Loading fold 2 weights and perform inference\n",
      "Loading fold 3 weights and perform inference\n",
      "Loading fold 4 weights and perform inference\n"
     ]
    }
   ],
   "source": [
    "\n",
    "# predict\n",
    "# create empty array\n",
    "pred_all = np.zeros(len(test_df))\n",
    "\n",
    "# loop over folds \n",
    "for i in range(5):\n",
    "    print(f\"Loading fold {i} weights and perform inference\")\n",
    "    model = pawNetBasic.load_from_checkpoint(checkpoint_path=f\"../input/02-pytorch-lightning-variant/pawnet_lightning_resnet/default/version_{i}/checkpoints/best_loss.ckpt\",criterion=criterion)\n",
    "    model = model.to(\"cuda\")\n",
    "    _,pred = inference_test(model,test_loader,criterion=None,device=\"cuda\")\n",
    "    pred_all += pred.numpy()"
   ]
  },
  {
   "cell_type": "code",
   "execution_count": null,
   "id": "4f6d3505",
   "metadata": {
    "papermill": {
     "duration": 0.021679,
     "end_time": "2021-11-25T16:26:43.560690",
     "exception": false,
     "start_time": "2021-11-25T16:26:43.539011",
     "status": "completed"
    },
    "tags": []
   },
   "outputs": [],
   "source": []
  },
  {
   "cell_type": "code",
   "execution_count": 15,
   "id": "f243d597",
   "metadata": {
    "execution": {
     "iopub.execute_input": "2021-11-25T16:26:43.615926Z",
     "iopub.status.busy": "2021-11-25T16:26:43.615372Z",
     "iopub.status.idle": "2021-11-25T16:26:43.620565Z",
     "shell.execute_reply": "2021-11-25T16:26:43.619958Z",
     "shell.execute_reply.started": "2021-11-25T15:17:10.010765Z"
    },
    "papermill": {
     "duration": 0.039054,
     "end_time": "2021-11-25T16:26:43.620728",
     "exception": false,
     "start_time": "2021-11-25T16:26:43.581674",
     "status": "completed"
    },
    "tags": []
   },
   "outputs": [
    {
     "name": "stderr",
     "output_type": "stream",
     "text": [
      "/opt/conda/lib/python3.7/site-packages/ipykernel_launcher.py:3: SettingWithCopyWarning: \n",
      "A value is trying to be set on a copy of a slice from a DataFrame.\n",
      "Try using .loc[row_indexer,col_indexer] = value instead\n",
      "\n",
      "See the caveats in the documentation: https://pandas.pydata.org/pandas-docs/stable/user_guide/indexing.html#returning-a-view-versus-a-copy\n",
      "  This is separate from the ipykernel package so we can avoid doing imports until\n"
     ]
    }
   ],
   "source": [
    "# create submission\n",
    "sub = test_df[[\"Id\"]]\n",
    "sub[\"Pawpularity\"] = pred_all / 5"
   ]
  },
  {
   "cell_type": "code",
   "execution_count": 16,
   "id": "6170c19c",
   "metadata": {
    "execution": {
     "iopub.execute_input": "2021-11-25T16:26:43.666648Z",
     "iopub.status.busy": "2021-11-25T16:26:43.665887Z",
     "iopub.status.idle": "2021-11-25T16:26:43.677300Z",
     "shell.execute_reply": "2021-11-25T16:26:43.677774Z",
     "shell.execute_reply.started": "2021-11-25T15:17:11.92295Z"
    },
    "papermill": {
     "duration": 0.037893,
     "end_time": "2021-11-25T16:26:43.677903",
     "exception": false,
     "start_time": "2021-11-25T16:26:43.640010",
     "status": "completed"
    },
    "tags": []
   },
   "outputs": [
    {
     "data": {
      "text/html": [
       "<div>\n",
       "<style scoped>\n",
       "    .dataframe tbody tr th:only-of-type {\n",
       "        vertical-align: middle;\n",
       "    }\n",
       "\n",
       "    .dataframe tbody tr th {\n",
       "        vertical-align: top;\n",
       "    }\n",
       "\n",
       "    .dataframe thead th {\n",
       "        text-align: right;\n",
       "    }\n",
       "</style>\n",
       "<table border=\"1\" class=\"dataframe\">\n",
       "  <thead>\n",
       "    <tr style=\"text-align: right;\">\n",
       "      <th></th>\n",
       "      <th>Id</th>\n",
       "      <th>Pawpularity</th>\n",
       "    </tr>\n",
       "  </thead>\n",
       "  <tbody>\n",
       "    <tr>\n",
       "      <th>0</th>\n",
       "      <td>4128bae22183829d2b5fea10effdb0c3</td>\n",
       "      <td>46.239773</td>\n",
       "    </tr>\n",
       "    <tr>\n",
       "      <th>1</th>\n",
       "      <td>43a2262d7738e3d420d453815151079e</td>\n",
       "      <td>47.523262</td>\n",
       "    </tr>\n",
       "    <tr>\n",
       "      <th>2</th>\n",
       "      <td>4e429cead1848a298432a0acad014c9d</td>\n",
       "      <td>45.912098</td>\n",
       "    </tr>\n",
       "    <tr>\n",
       "      <th>3</th>\n",
       "      <td>80bc3ccafcc51b66303c2c263aa38486</td>\n",
       "      <td>44.765432</td>\n",
       "    </tr>\n",
       "    <tr>\n",
       "      <th>4</th>\n",
       "      <td>8f49844c382931444e68dffbe20228f4</td>\n",
       "      <td>47.256080</td>\n",
       "    </tr>\n",
       "  </tbody>\n",
       "</table>\n",
       "</div>"
      ],
      "text/plain": [
       "                                 Id  Pawpularity\n",
       "0  4128bae22183829d2b5fea10effdb0c3    46.239773\n",
       "1  43a2262d7738e3d420d453815151079e    47.523262\n",
       "2  4e429cead1848a298432a0acad014c9d    45.912098\n",
       "3  80bc3ccafcc51b66303c2c263aa38486    44.765432\n",
       "4  8f49844c382931444e68dffbe20228f4    47.256080"
      ]
     },
     "execution_count": 16,
     "metadata": {},
     "output_type": "execute_result"
    }
   ],
   "source": [
    "sub.head()"
   ]
  },
  {
   "cell_type": "code",
   "execution_count": 17,
   "id": "cae0fe7b",
   "metadata": {
    "execution": {
     "iopub.execute_input": "2021-11-25T16:26:43.722398Z",
     "iopub.status.busy": "2021-11-25T16:26:43.721670Z",
     "iopub.status.idle": "2021-11-25T16:26:43.726934Z",
     "shell.execute_reply": "2021-11-25T16:26:43.726458Z",
     "shell.execute_reply.started": "2021-11-25T15:17:13.151748Z"
    },
    "papermill": {
     "duration": 0.028324,
     "end_time": "2021-11-25T16:26:43.727041",
     "exception": false,
     "start_time": "2021-11-25T16:26:43.698717",
     "status": "completed"
    },
    "tags": []
   },
   "outputs": [],
   "source": [
    "sub.to_csv(\"submission.csv\", index=False)"
   ]
  },
  {
   "cell_type": "code",
   "execution_count": null,
   "id": "95cbece4",
   "metadata": {
    "papermill": {
     "duration": 0.019306,
     "end_time": "2021-11-25T16:26:43.765900",
     "exception": false,
     "start_time": "2021-11-25T16:26:43.746594",
     "status": "completed"
    },
    "tags": []
   },
   "outputs": [],
   "source": []
  }
 ],
 "metadata": {
  "kernelspec": {
   "display_name": "Python 3",
   "language": "python",
   "name": "python3"
  },
  "language_info": {
   "codemirror_mode": {
    "name": "ipython",
    "version": 3
   },
   "file_extension": ".py",
   "mimetype": "text/x-python",
   "name": "python",
   "nbconvert_exporter": "python",
   "pygments_lexer": "ipython3",
   "version": "3.7.10"
  },
  "papermill": {
   "default_parameters": {},
   "duration": 99.460063,
   "end_time": "2021-11-25T16:26:46.847596",
   "environment_variables": {},
   "exception": null,
   "input_path": "__notebook__.ipynb",
   "output_path": "__notebook__.ipynb",
   "parameters": {},
   "start_time": "2021-11-25T16:25:07.387533",
   "version": "2.3.3"
  }
 },
 "nbformat": 4,
 "nbformat_minor": 5
}
